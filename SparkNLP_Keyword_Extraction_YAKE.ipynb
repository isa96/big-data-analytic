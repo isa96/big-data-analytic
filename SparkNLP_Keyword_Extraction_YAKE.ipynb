{
 "cells": [
  {
   "cell_type": "code",
   "execution_count": 1,
   "id": "4bc8a7b8",
   "metadata": {},
   "outputs": [],
   "source": [
    "! pip install -q pyspark==3.2.0 spark-nlp"
   ]
  },
  {
   "cell_type": "code",
   "execution_count": 2,
   "id": "048f76ca",
   "metadata": {},
   "outputs": [
    {
     "name": "stderr",
     "output_type": "stream",
     "text": [
      "/var/folders/pm/yd1j81s52gj2mndwp9tf84n80000gn/T/ipykernel_36462/661913275.py:5: DeprecationWarning: Importing display from IPython.core.display is deprecated since IPython 7.14, please import from IPython display\n",
      "  from IPython.core.display import display, HTML\n"
     ]
    }
   ],
   "source": [
    "from pyspark.sql import functions as F\n",
    "from pyspark.sql.functions import lit\n",
    "from pyspark.sql.types import StringType, DataType,ArrayType\n",
    "from pyspark.sql.functions import udf, struct\n",
    "from IPython.core.display import display, HTML\n",
    "import re"
   ]
  },
  {
   "cell_type": "code",
   "execution_count": 3,
   "id": "67e3807d",
   "metadata": {},
   "outputs": [
    {
     "name": "stderr",
     "output_type": "stream",
     "text": [
      "22/03/16 01:59:33 WARN Utils: Your hostname, MacBook-Air-Muhammad.local resolves to a loopback address: 127.0.0.1; using 192.168.43.150 instead (on interface en0)\n",
      "22/03/16 01:59:33 WARN Utils: Set SPARK_LOCAL_IP if you need to bind to another address\n"
     ]
    },
    {
     "name": "stdout",
     "output_type": "stream",
     "text": [
      ":: loading settings :: url = jar:file:/Users/mhihsan/miniconda3/envs/kuliah/lib/python3.8/site-packages/pyspark/jars/ivy-2.5.0.jar!/org/apache/ivy/core/settings/ivysettings.xml\n"
     ]
    },
    {
     "name": "stderr",
     "output_type": "stream",
     "text": [
      "Ivy Default Cache set to: /Users/mhihsan/.ivy2/cache\n",
      "The jars for the packages stored in: /Users/mhihsan/.ivy2/jars\n",
      "com.johnsnowlabs.nlp#spark-nlp-spark32_2.12 added as a dependency\n",
      ":: resolving dependencies :: org.apache.spark#spark-submit-parent-481fae93-132b-4a98-9bd7-3eb91bce3e76;1.0\n",
      "\tconfs: [default]\n",
      "\tfound com.johnsnowlabs.nlp#spark-nlp-spark32_2.12;3.4.1 in central\n",
      "\tfound com.typesafe#config;1.4.1 in central\n",
      "\tfound org.rocksdb#rocksdbjni;6.5.3 in central\n",
      "\tfound com.amazonaws#aws-java-sdk-bundle;1.11.603 in central\n",
      "\tfound com.github.universal-automata#liblevenshtein;3.0.0 in central\n",
      "\tfound com.google.code.findbugs#annotations;3.0.1 in central\n",
      "\tfound net.jcip#jcip-annotations;1.0 in central\n",
      "\tfound com.google.code.findbugs#jsr305;3.0.1 in central\n",
      "\tfound com.google.protobuf#protobuf-java-util;3.0.0-beta-3 in central\n",
      "\tfound com.google.protobuf#protobuf-java;3.0.0-beta-3 in central\n",
      "\tfound com.google.code.gson#gson;2.3 in central\n",
      "\tfound it.unimi.dsi#fastutil;7.0.12 in central\n",
      "\tfound org.projectlombok#lombok;1.16.8 in central\n",
      "\tfound org.slf4j#slf4j-api;1.7.21 in central\n",
      "\tfound com.navigamez#greex;1.0 in central\n",
      "\tfound dk.brics.automaton#automaton;1.11-8 in central\n",
      "\tfound org.json4s#json4s-ext_2.12;3.7.0-M11 in central\n",
      "\tfound joda-time#joda-time;2.10.10 in central\n",
      "\tfound org.joda#joda-convert;2.2.1 in central\n",
      "\tfound com.johnsnowlabs.nlp#tensorflow-cpu_2.12;0.3.3 in central\n",
      "\tfound net.sf.trove4j#trove4j;3.0.3 in central\n",
      ":: resolution report :: resolve 1239ms :: artifacts dl 32ms\n",
      "\t:: modules in use:\n",
      "\tcom.amazonaws#aws-java-sdk-bundle;1.11.603 from central in [default]\n",
      "\tcom.github.universal-automata#liblevenshtein;3.0.0 from central in [default]\n",
      "\tcom.google.code.findbugs#annotations;3.0.1 from central in [default]\n",
      "\tcom.google.code.findbugs#jsr305;3.0.1 from central in [default]\n",
      "\tcom.google.code.gson#gson;2.3 from central in [default]\n",
      "\tcom.google.protobuf#protobuf-java;3.0.0-beta-3 from central in [default]\n",
      "\tcom.google.protobuf#protobuf-java-util;3.0.0-beta-3 from central in [default]\n",
      "\tcom.johnsnowlabs.nlp#spark-nlp-spark32_2.12;3.4.1 from central in [default]\n",
      "\tcom.johnsnowlabs.nlp#tensorflow-cpu_2.12;0.3.3 from central in [default]\n",
      "\tcom.navigamez#greex;1.0 from central in [default]\n",
      "\tcom.typesafe#config;1.4.1 from central in [default]\n",
      "\tdk.brics.automaton#automaton;1.11-8 from central in [default]\n",
      "\tit.unimi.dsi#fastutil;7.0.12 from central in [default]\n",
      "\tjoda-time#joda-time;2.10.10 from central in [default]\n",
      "\tnet.jcip#jcip-annotations;1.0 from central in [default]\n",
      "\tnet.sf.trove4j#trove4j;3.0.3 from central in [default]\n",
      "\torg.joda#joda-convert;2.2.1 from central in [default]\n",
      "\torg.json4s#json4s-ext_2.12;3.7.0-M11 from central in [default]\n",
      "\torg.projectlombok#lombok;1.16.8 from central in [default]\n",
      "\torg.rocksdb#rocksdbjni;6.5.3 from central in [default]\n",
      "\torg.slf4j#slf4j-api;1.7.21 from central in [default]\n",
      "\t---------------------------------------------------------------------\n",
      "\t|                  |            modules            ||   artifacts   |\n",
      "\t|       conf       | number| search|dwnlded|evicted|| number|dwnlded|\n",
      "\t---------------------------------------------------------------------\n",
      "\t|      default     |   21  |   0   |   0   |   0   ||   21  |   0   |\n",
      "\t---------------------------------------------------------------------\n",
      ":: retrieving :: org.apache.spark#spark-submit-parent-481fae93-132b-4a98-9bd7-3eb91bce3e76\n",
      "\tconfs: [default]\n",
      "\t0 artifacts copied, 21 already retrieved (0kB/27ms)\n",
      "22/03/16 02:00:06 WARN NativeCodeLoader: Unable to load native-hadoop library for your platform... using builtin-java classes where applicable\n",
      "Using Spark's default log4j profile: org/apache/spark/log4j-defaults.properties\n",
      "Setting default log level to \"WARN\".\n",
      "To adjust logging level use sc.setLogLevel(newLevel). For SparkR, use setLogLevel(newLevel).\n"
     ]
    },
    {
     "name": "stdout",
     "output_type": "stream",
     "text": [
      "Spark NLP version 3.4.1\n",
      "Apache Spark version: 3.2.0\n"
     ]
    },
    {
     "data": {
      "text/html": [
       "\n",
       "            <div>\n",
       "                <p><b>SparkSession - in-memory</b></p>\n",
       "                \n",
       "        <div>\n",
       "            <p><b>SparkContext</b></p>\n",
       "\n",
       "            <p><a href=\"http://192.168.43.150:4040\">Spark UI</a></p>\n",
       "\n",
       "            <dl>\n",
       "              <dt>Version</dt>\n",
       "                <dd><code>v3.2.0</code></dd>\n",
       "              <dt>Master</dt>\n",
       "                <dd><code>local[*]</code></dd>\n",
       "              <dt>AppName</dt>\n",
       "                <dd><code>Spark NLP</code></dd>\n",
       "            </dl>\n",
       "        </div>\n",
       "        \n",
       "            </div>\n",
       "        "
      ],
      "text/plain": [
       "<pyspark.sql.session.SparkSession at 0x10b9d82b0>"
      ]
     },
     "execution_count": 3,
     "metadata": {},
     "output_type": "execute_result"
    }
   ],
   "source": [
    "from pyspark.ml import PipelineModel\n",
    "from sparknlp.annotator import *\n",
    "from sparknlp.base import *\n",
    "import sparknlp\n",
    "\n",
    "spark = sparknlp.start(spark32 = True)\n",
    "\n",
    "print(\"Spark NLP version\", sparknlp.version())\n",
    "print(\"Apache Spark version:\", spark.version)\n",
    "\n",
    "spark"
   ]
  },
  {
   "cell_type": "code",
   "execution_count": 4,
   "id": "2aa21137",
   "metadata": {},
   "outputs": [],
   "source": [
    "stopwords = StopWordsCleaner().getStopWords()"
   ]
  },
  {
   "cell_type": "code",
   "execution_count": 5,
   "id": "70969df6",
   "metadata": {},
   "outputs": [
    {
     "data": {
      "text/plain": [
       "['i', 'me', 'my', 'myself', 'we']"
      ]
     },
     "execution_count": 5,
     "metadata": {},
     "output_type": "execute_result"
    }
   ],
   "source": [
    "stopwords[:5]"
   ]
  },
  {
   "cell_type": "markdown",
   "id": "dbfb333d",
   "metadata": {},
   "source": [
    "## YAKE Keyword Extractor"
   ]
  },
  {
   "cell_type": "code",
   "execution_count": 8,
   "id": "4b92a2f1",
   "metadata": {},
   "outputs": [],
   "source": [
    "document = DocumentAssembler() \\\n",
    "    .setInputCol(\"Transcript\") \\\n",
    "    .setOutputCol(\"document\")\n",
    "\n",
    "sentenceDetector = SentenceDetector() \\\n",
    "    .setInputCols(\"document\") \\\n",
    "    .setOutputCol(\"sentence\")\n",
    "\n",
    "token = Tokenizer() \\\n",
    "    .setInputCols(\"sentence\") \\\n",
    "    .setOutputCol(\"token\") \\\n",
    "    .setContextChars([\"(\", \")\", \"?\", \"!\", \".\", \",\"])\n",
    "\n",
    "keywords = YakeKeywordExtraction() \\\n",
    "    .setInputCols(\"token\") \\\n",
    "    .setOutputCol(\"keywords\") \\\n",
    "    .setMinNGrams(1) \\\n",
    "    .setMaxNGrams(3)\\\n",
    "    .setNKeywords(20)\\\n",
    "    .setStopWords(stopwords)\n",
    "\n",
    "yake_pipeline = Pipeline(stages=[document, sentenceDetector, token, keywords])\n",
    "\n",
    "empty_df = spark.createDataFrame([['']]).toDF(\"Transcript\")\n",
    "\n",
    "yake_Model = yake_pipeline.fit(empty_df)"
   ]
  },
  {
   "cell_type": "code",
   "execution_count": 9,
   "id": "ce07f918",
   "metadata": {},
   "outputs": [
    {
     "data": {
      "text/plain": [
       "[('0',\n",
       "  'SUBJECTIVE: This 23-year-old white female presents with complaint of allergies.'),\n",
       " ('1',\n",
       "  'She used to have allergies when she lived in Seattle but she thinks they are worse here.'),\n",
       " ('2', 'In the past, she has tried Claritin, and Zyrtec.'),\n",
       " ('3', 'Both worked for short time but then seemed to lose effectiveness.'),\n",
       " ('4', 'She has used Allegra also.'),\n",
       " ('5',\n",
       "  'She used that last summer and she began using it again two weeks ago.'),\n",
       " ('6', 'It does not appear to be working very well.'),\n",
       " ('7',\n",
       "  'She has used over-the-counter sprays but no prescription nasal sprays.'),\n",
       " ('8',\n",
       "  'She does have asthma but doest not require daily medication for this and does not think it is flaring up.'),\n",
       " ('9',\n",
       "  'MEDICATIONS: Her only medication currently is Ortho Tri-Cyclen and the Allegra.'),\n",
       " ('10', 'ALLERGIES: She has no known medicine allergies.'),\n",
       " ('11', 'OBJECTIVE: Vitals: Weight was 130 pounds and blood pressure 124/78.'),\n",
       " ('12', 'HEENT: Her throat was mildly erythematous without exudate.'),\n",
       " ('13', 'Nasal mucosa was erythematous and swollen.'),\n",
       " ('14', 'Only clear drainage was seen.'),\n",
       " ('15', 'TMs were clear.'),\n",
       " ('16', 'Neck: Supple without adenopathy.'),\n",
       " ('17', 'Lungs: Clear.'),\n",
       " ('18', 'ASSESSMENT: Allergic rhinitis.'),\n",
       " ('19', 'PLAN:'),\n",
       " ('20', '1. She will try Zyrtec instead of Allegra again.'),\n",
       " ('21', 'Another option will be to use loratadine.'),\n",
       " ('22',\n",
       "  'She does not think she has prescription coverage so that might be cheaper.'),\n",
       " ('23',\n",
       "  '2. Samples of Nasonex two sprays in each nostril given for three weeks.'),\n",
       " ('24', 'A prescription was written as well.')]"
      ]
     },
     "execution_count": 9,
     "metadata": {},
     "output_type": "execute_result"
    }
   ],
   "source": [
    "# LightPipeline\n",
    "\n",
    "light_model = LightPipeline(yake_Model)\n",
    "\n",
    "text = \"\"\"SUBJECTIVE: This 23-year-old white female presents with complaint of allergies. She used to have allergies when she lived in Seattle but she thinks they are worse here. In the past, she has tried Claritin, and Zyrtec. Both worked for short time but then seemed to lose effectiveness. She has used Allegra also. She used that last summer and she began using it again two weeks ago. It does not appear to be working very well. She has used over-the-counter sprays but no prescription nasal sprays. She does have asthma but doest not require daily medication for this and does not think it is flaring up. MEDICATIONS: Her only medication currently is Ortho Tri-Cyclen and the Allegra. ALLERGIES: She has no known medicine allergies. OBJECTIVE: Vitals: Weight was 130 pounds and blood pressure 124/78. HEENT: Her throat was mildly erythematous without exudate. Nasal mucosa was erythematous and swollen. Only clear drainage was seen. TMs were clear. Neck: Supple without adenopathy. Lungs: Clear. ASSESSMENT: Allergic rhinitis. PLAN: 1. She will try Zyrtec instead of Allegra again. Another option will be to use loratadine. She does not think she has prescription coverage so that might be cheaper. 2. Samples of Nasonex two sprays in each nostril given for three weeks. A prescription was written as well.\"\"\"\n",
    "\n",
    "light_result = light_model.fullAnnotate(text)[0]\n",
    "\n",
    "[(s.metadata['sentence'], s.result) for s in light_result['sentence']]"
   ]
  },
  {
   "cell_type": "code",
   "execution_count": 10,
   "id": "bb82db10",
   "metadata": {},
   "outputs": [
    {
     "data": {
      "text/html": [
       "<div>\n",
       "<style scoped>\n",
       "    .dataframe tbody tr th:only-of-type {\n",
       "        vertical-align: middle;\n",
       "    }\n",
       "\n",
       "    .dataframe tbody tr th {\n",
       "        vertical-align: top;\n",
       "    }\n",
       "\n",
       "    .dataframe thead th {\n",
       "        text-align: right;\n",
       "    }\n",
       "</style>\n",
       "<table border=\"1\" class=\"dataframe\">\n",
       "  <thead>\n",
       "    <tr style=\"text-align: right;\">\n",
       "      <th></th>\n",
       "      <th>keywords</th>\n",
       "      <th>begin</th>\n",
       "      <th>end</th>\n",
       "      <th>score</th>\n",
       "      <th>sentence</th>\n",
       "    </tr>\n",
       "  </thead>\n",
       "  <tbody>\n",
       "    <tr>\n",
       "      <th>0</th>\n",
       "      <td>allergies</td>\n",
       "      <td>69</td>\n",
       "      <td>77</td>\n",
       "      <td>0.224708</td>\n",
       "      <td>0</td>\n",
       "    </tr>\n",
       "    <tr>\n",
       "      <th>1</th>\n",
       "      <td>used</td>\n",
       "      <td>84</td>\n",
       "      <td>87</td>\n",
       "      <td>0.184242</td>\n",
       "      <td>1</td>\n",
       "    </tr>\n",
       "    <tr>\n",
       "      <th>2</th>\n",
       "      <td>allergies</td>\n",
       "      <td>97</td>\n",
       "      <td>105</td>\n",
       "      <td>0.224708</td>\n",
       "      <td>1</td>\n",
       "    </tr>\n",
       "    <tr>\n",
       "      <th>3</th>\n",
       "      <td>seattle</td>\n",
       "      <td>125</td>\n",
       "      <td>131</td>\n",
       "      <td>0.536178</td>\n",
       "      <td>1</td>\n",
       "    </tr>\n",
       "    <tr>\n",
       "      <th>22</th>\n",
       "      <td>allergies</td>\n",
       "      <td>719</td>\n",
       "      <td>727</td>\n",
       "      <td>0.224708</td>\n",
       "      <td>10</td>\n",
       "    </tr>\n",
       "    <tr>\n",
       "      <th>23</th>\n",
       "      <td>weight</td>\n",
       "      <td>749</td>\n",
       "      <td>754</td>\n",
       "      <td>0.687564</td>\n",
       "      <td>11</td>\n",
       "    </tr>\n",
       "    <tr>\n",
       "      <th>25</th>\n",
       "      <td>without</td>\n",
       "      <td>840</td>\n",
       "      <td>846</td>\n",
       "      <td>0.428513</td>\n",
       "      <td>12</td>\n",
       "    </tr>\n",
       "    <tr>\n",
       "      <th>24</th>\n",
       "      <td>erythematous</td>\n",
       "      <td>827</td>\n",
       "      <td>838</td>\n",
       "      <td>0.428628</td>\n",
       "      <td>12</td>\n",
       "    </tr>\n",
       "    <tr>\n",
       "      <th>27</th>\n",
       "      <td>erythematous</td>\n",
       "      <td>874</td>\n",
       "      <td>885</td>\n",
       "      <td>0.428628</td>\n",
       "      <td>13</td>\n",
       "    </tr>\n",
       "    <tr>\n",
       "      <th>26</th>\n",
       "      <td>nasal</td>\n",
       "      <td>857</td>\n",
       "      <td>861</td>\n",
       "      <td>0.430840</td>\n",
       "      <td>13</td>\n",
       "    </tr>\n",
       "    <tr>\n",
       "      <th>28</th>\n",
       "      <td>clear</td>\n",
       "      <td>905</td>\n",
       "      <td>909</td>\n",
       "      <td>0.244326</td>\n",
       "      <td>14</td>\n",
       "    </tr>\n",
       "    <tr>\n",
       "      <th>29</th>\n",
       "      <td>clear</td>\n",
       "      <td>939</td>\n",
       "      <td>943</td>\n",
       "      <td>0.244326</td>\n",
       "      <td>15</td>\n",
       "    </tr>\n",
       "    <tr>\n",
       "      <th>30</th>\n",
       "      <td>without</td>\n",
       "      <td>959</td>\n",
       "      <td>965</td>\n",
       "      <td>0.428513</td>\n",
       "      <td>16</td>\n",
       "    </tr>\n",
       "    <tr>\n",
       "      <th>31</th>\n",
       "      <td>clear</td>\n",
       "      <td>986</td>\n",
       "      <td>990</td>\n",
       "      <td>0.244326</td>\n",
       "      <td>17</td>\n",
       "    </tr>\n",
       "    <tr>\n",
       "      <th>5</th>\n",
       "      <td>zyrtec</td>\n",
       "      <td>210</td>\n",
       "      <td>215</td>\n",
       "      <td>0.316215</td>\n",
       "      <td>2</td>\n",
       "    </tr>\n",
       "    <tr>\n",
       "      <th>4</th>\n",
       "      <td>claritin</td>\n",
       "      <td>196</td>\n",
       "      <td>203</td>\n",
       "      <td>0.573028</td>\n",
       "      <td>2</td>\n",
       "    </tr>\n",
       "    <tr>\n",
       "      <th>33</th>\n",
       "      <td>allegra</td>\n",
       "      <td>1064</td>\n",
       "      <td>1070</td>\n",
       "      <td>0.184328</td>\n",
       "      <td>20</td>\n",
       "    </tr>\n",
       "    <tr>\n",
       "      <th>32</th>\n",
       "      <td>zyrtec</td>\n",
       "      <td>1046</td>\n",
       "      <td>1051</td>\n",
       "      <td>0.316215</td>\n",
       "      <td>20</td>\n",
       "    </tr>\n",
       "    <tr>\n",
       "      <th>35</th>\n",
       "      <td>prescription</td>\n",
       "      <td>1148</td>\n",
       "      <td>1159</td>\n",
       "      <td>0.281350</td>\n",
       "      <td>22</td>\n",
       "    </tr>\n",
       "    <tr>\n",
       "      <th>34</th>\n",
       "      <td>think</td>\n",
       "      <td>1134</td>\n",
       "      <td>1138</td>\n",
       "      <td>0.432522</td>\n",
       "      <td>22</td>\n",
       "    </tr>\n",
       "    <tr>\n",
       "      <th>37</th>\n",
       "      <td>sprays</td>\n",
       "      <td>1222</td>\n",
       "      <td>1227</td>\n",
       "      <td>0.262124</td>\n",
       "      <td>23</td>\n",
       "    </tr>\n",
       "    <tr>\n",
       "      <th>38</th>\n",
       "      <td>weeks</td>\n",
       "      <td>1261</td>\n",
       "      <td>1265</td>\n",
       "      <td>0.427033</td>\n",
       "      <td>23</td>\n",
       "    </tr>\n",
       "    <tr>\n",
       "      <th>36</th>\n",
       "      <td>two</td>\n",
       "      <td>1218</td>\n",
       "      <td>1220</td>\n",
       "      <td>0.431348</td>\n",
       "      <td>23</td>\n",
       "    </tr>\n",
       "    <tr>\n",
       "      <th>39</th>\n",
       "      <td>prescription</td>\n",
       "      <td>1270</td>\n",
       "      <td>1281</td>\n",
       "      <td>0.281350</td>\n",
       "      <td>24</td>\n",
       "    </tr>\n",
       "    <tr>\n",
       "      <th>40</th>\n",
       "      <td>well</td>\n",
       "      <td>1298</td>\n",
       "      <td>1301</td>\n",
       "      <td>0.426766</td>\n",
       "      <td>24</td>\n",
       "    </tr>\n",
       "    <tr>\n",
       "      <th>6</th>\n",
       "      <td>used</td>\n",
       "      <td>292</td>\n",
       "      <td>295</td>\n",
       "      <td>0.184242</td>\n",
       "      <td>4</td>\n",
       "    </tr>\n",
       "    <tr>\n",
       "      <th>7</th>\n",
       "      <td>allegra</td>\n",
       "      <td>297</td>\n",
       "      <td>303</td>\n",
       "      <td>0.184328</td>\n",
       "      <td>4</td>\n",
       "    </tr>\n",
       "    <tr>\n",
       "      <th>41</th>\n",
       "      <td>used allegra</td>\n",
       "      <td>292</td>\n",
       "      <td>303</td>\n",
       "      <td>0.687852</td>\n",
       "      <td>4</td>\n",
       "    </tr>\n",
       "    <tr>\n",
       "      <th>8</th>\n",
       "      <td>used</td>\n",
       "      <td>315</td>\n",
       "      <td>318</td>\n",
       "      <td>0.184242</td>\n",
       "      <td>5</td>\n",
       "    </tr>\n",
       "    <tr>\n",
       "      <th>10</th>\n",
       "      <td>weeks</td>\n",
       "      <td>370</td>\n",
       "      <td>374</td>\n",
       "      <td>0.427033</td>\n",
       "      <td>5</td>\n",
       "    </tr>\n",
       "  </tbody>\n",
       "</table>\n",
       "</div>"
      ],
      "text/plain": [
       "        keywords  begin   end     score sentence\n",
       "0      allergies     69    77  0.224708        0\n",
       "1           used     84    87  0.184242        1\n",
       "2      allergies     97   105  0.224708        1\n",
       "3        seattle    125   131  0.536178        1\n",
       "22     allergies    719   727  0.224708       10\n",
       "23        weight    749   754  0.687564       11\n",
       "25       without    840   846  0.428513       12\n",
       "24  erythematous    827   838  0.428628       12\n",
       "27  erythematous    874   885  0.428628       13\n",
       "26         nasal    857   861  0.430840       13\n",
       "28         clear    905   909  0.244326       14\n",
       "29         clear    939   943  0.244326       15\n",
       "30       without    959   965  0.428513       16\n",
       "31         clear    986   990  0.244326       17\n",
       "5         zyrtec    210   215  0.316215        2\n",
       "4       claritin    196   203  0.573028        2\n",
       "33       allegra   1064  1070  0.184328       20\n",
       "32        zyrtec   1046  1051  0.316215       20\n",
       "35  prescription   1148  1159  0.281350       22\n",
       "34         think   1134  1138  0.432522       22\n",
       "37        sprays   1222  1227  0.262124       23\n",
       "38         weeks   1261  1265  0.427033       23\n",
       "36           two   1218  1220  0.431348       23\n",
       "39  prescription   1270  1281  0.281350       24\n",
       "40          well   1298  1301  0.426766       24\n",
       "6           used    292   295  0.184242        4\n",
       "7        allegra    297   303  0.184328        4\n",
       "41  used allegra    292   303  0.687852        4\n",
       "8           used    315   318  0.184242        5\n",
       "10         weeks    370   374  0.427033        5"
      ]
     },
     "execution_count": 10,
     "metadata": {},
     "output_type": "execute_result"
    }
   ],
   "source": [
    "import pandas as pd\n",
    "\n",
    "keys_df = pd.DataFrame([(k.result, k.begin, k.end, k.metadata['score'],  k.metadata['sentence']) for k in light_result['keywords']],\n",
    "                       columns = ['keywords','begin','end','score','sentence'])\n",
    "keys_df['score'] = keys_df['score'].astype(float)\n",
    "\n",
    "# ordered by relevance \n",
    "keys_df.sort_values(['sentence','score']).head(30)"
   ]
  },
  {
   "cell_type": "markdown",
   "id": "a3fec2a0",
   "metadata": {},
   "source": [
    "### Keyword dari Dataframe"
   ]
  },
  {
   "cell_type": "code",
   "execution_count": 11,
   "id": "46012bc0",
   "metadata": {
    "scrolled": true
   },
   "outputs": [
    {
     "name": "stderr",
     "output_type": "stream",
     "text": [
      "                                                                                \r"
     ]
    },
    {
     "name": "stdout",
     "output_type": "stream",
     "text": [
      "+--------------------+--------------------------------------------+--------------------------------------------------+--------------------------------------------------+--------------------------------------------------+\n",
      "|      Type/Specialty|                                 Sample Name|                                       Description|                                        Transcript|                                          Keywords|\n",
      "+--------------------+--------------------------------------------+--------------------------------------------------+--------------------------------------------------+--------------------------------------------------+\n",
      "|Allergy / Immunology|                           Allergic Rhinitis|A 23-year-old white female presents with compla...|SUBJECTIVE: This 23-year-old white female prese...|allergy / immunology, allergic rhinitis, allerg...|\n",
      "|Allergy / Immunology|                  Allergy Evaluation Consult|Acute allergic reaction, etiology uncertain, ho...|HISTORY: A 34-year-old male presents today self...|allergy / immunology, keflex, acute allergic re...|\n",
      "|Allergy / Immunology|                      Asthma in a 5-year-old|  Mother states he has been wheezing and coughing.|\"CHIEF COMPLAINT: This 5-year-old male presents...| given the breathing treatment and discharged home|\n",
      "|Allergy / Immunology|                           Chronic Sinusitis|Patient having severe sinusitis about two to th...|HISTORY: I had the pleasure of meeting and eval...|allergy / immunology, nasal congestion, facial ...|\n",
      "|Allergy / Immunology|                     Evaluation of Allergies|Chronic glossitis, xerostomia, probable environ...|HISTORY: A 55-year-old female presents self-ref...|allergy / immunology, chronic glossitis, xerost...|\n",
      "|Allergy / Immunology|                          Followup on Asthma|A female for a complete physical and follow up ...|SUBJECTIVE: This is a 42-year-old white female ...|allergy / immunology, asthma, complete physical...|\n",
      "|Allergy / Immunology|        Kawasaki Disease - Discharge Summary|This is a 14-month-old baby boy Caucasian who c...|ADMITTING DIAGNOSIS: Kawasaki disease. DISCHARG...|allergy / immunology, mucous membranes, conjunc...|\n",
      "|             Autopsy|                                 Autopsy - 1|   Autopsy - Homicide - Blunt force cranial trauma|EXTERNAL EXAMINATION - SUMMARY The body is pres...|autopsy, black body bag, body bag, long-sleeved...|\n",
      "|             Autopsy|                                 Autopsy - 2|Autopsy of a white female who died of acute com...|\"CLOTHING: The body is clad in a light green ho...|                                          parallel|\n",
      "|             Autopsy|                                 Autopsy - 3| Autopsy - Asphyxia due to ligature strangulation.|\"EXTERNAL EXAMINATION: The autopsy is begun at ...| consistent with hanging. Minor abrasions are p...|\n",
      "|             Autopsy|                                 Autopsy - 4|Autopsy - Ligature strangulation and craniocere...|FINAL DIAGNOSIS: I. Ligature strangulation. A. ...|autopsy, ligature strangulation, ligature, furr...|\n",
      "|             Autopsy|                                 Autopsy - 5|Autopsy - Homicide - evidence of exsanguination...|\"MANNER OF DEATH: Homicide. CAUSE OF DEATH: Exs...|                              a pair of blue jeans|\n",
      "|             Autopsy|                                 Autopsy - 6|Multiple sharp force injuries, involving chest ...|\"ANATOMICAL SUMMARY 1. Sharp force wound of nec...| visible or morbid alteration. EXTERNAL EXAMINA...|\n",
      "|             Autopsy|                                 Autopsy - 7|            Cause of death - Anoxic Encephalopathy|EXTERNAL EXAMINATION: The body is that of a 62-...|autopsy, encephalopathy, examination, autopsy f...|\n",
      "|             Autopsy|                                 Autopsy - 8|The patient died of a pulmonary embolism, the u...|SUMMARY OF CLINICAL HISTORY: The patient was a ...|autopsy, plasminogen, lupus anticoagulant, pulm...|\n",
      "|          Bariatrics|Bariatric Consult - Surgical Weight Loss - 1|Evaluation for elective surgical weight loss vi...| PAST MEDICAL HISTORY: She has a history of hyp...|bariatrics, elective surgical weight loss, surg...|\n",
      "|          Bariatrics|Bariatric Consult - Surgical Weight Loss - 2|Evaluation for elective surgical weight loss vi...| PAST MEDICAL HISTORY: She had a negative stres...|bariatrics, elective surgical weight loss, surg...|\n",
      "|          Bariatrics|Bariatric Consult - Surgical Weight Loss - 3|                 Evaluation for bariatric surgery.| PAST MEDICAL HISTORY: Her medical conditions d...|bariatrics, evaluation for bariatric surgery, b...|\n",
      "|          Bariatrics|Bariatric Consult - Surgical Weight Loss - 4|Patient presented to the Bariatric Surgery Serv...|HISTORY OF PRESENT ILLNESS: Ms. A is a 55-year-...|bariatrics, jenny craig, medifast, nutrisystem,...|\n",
      "|          Bariatrics|          Discharge Summary - Gastric Bypass|Patient suffered from morbid obesity for many y...|ADMISSION DIAGNOSIS: Morbid obesity. BMI is 51....|bariatrics, laparoscopic gastric bypass, gastri...|\n",
      "+--------------------+--------------------------------------------+--------------------------------------------------+--------------------------------------------------+--------------------------------------------------+\n",
      "only showing top 20 rows\n",
      "\n"
     ]
    }
   ],
   "source": [
    "df = spark.read\\\n",
    "                .option(\"header\", \"true\")\\\n",
    "                .csv(\"mtsamples.csv\")\\\n",
    "                \n",
    "df.show(truncate=50)"
   ]
  },
  {
   "cell_type": "code",
   "execution_count": 12,
   "id": "5b43bcf2",
   "metadata": {},
   "outputs": [],
   "source": [
    "df = df.select('Transcript')"
   ]
  },
  {
   "cell_type": "code",
   "execution_count": 13,
   "id": "4e1bcecf",
   "metadata": {},
   "outputs": [],
   "source": [
    "result = yake_pipeline.fit(df).transform(df)"
   ]
  },
  {
   "cell_type": "code",
   "execution_count": 14,
   "id": "4821fb07",
   "metadata": {},
   "outputs": [],
   "source": [
    "result = result.withColumn('unique_keywords', F.array_distinct(\"keywords.result\"))"
   ]
  },
  {
   "cell_type": "code",
   "execution_count": 15,
   "id": "7325a97f",
   "metadata": {},
   "outputs": [],
   "source": [
    "result = result.withColumn('unique_keywords', F.array_distinct(\"keywords.result\"))\n",
    "def highlight(text, keywords):\n",
    "    for k in keywords:\n",
    "        text = (re.sub(r'(\\b%s\\b)'%k, r'<span style=\"background-color: yellow;\">\\1</span>', text, flags=re.IGNORECASE))\n",
    "    return text"
   ]
  },
  {
   "cell_type": "code",
   "execution_count": 16,
   "id": "e509f734",
   "metadata": {},
   "outputs": [],
   "source": [
    "highlight_udf = udf(highlight, StringType())"
   ]
  },
  {
   "cell_type": "code",
   "execution_count": 17,
   "id": "ef133d58",
   "metadata": {},
   "outputs": [],
   "source": [
    "result = result.withColumn(\"highlighted_keywords\",highlight_udf('Transcript','unique_keywords'))"
   ]
  },
  {
   "cell_type": "code",
   "execution_count": 18,
   "id": "74da68d7",
   "metadata": {},
   "outputs": [
    {
     "name": "stderr",
     "output_type": "stream",
     "text": [
      "Traceback (most recent call last):                                  (0 + 1) / 1]\n",
      "  File \"/Users/mhihsan/miniconda3/envs/kuliah/lib/python3.8/site-packages/pyspark/python/lib/pyspark.zip/pyspark/daemon.py\", line 186, in manager\n",
      "  File \"/Users/mhihsan/miniconda3/envs/kuliah/lib/python3.8/site-packages/pyspark/python/lib/pyspark.zip/pyspark/daemon.py\", line 74, in worker\n",
      "  File \"/Users/mhihsan/miniconda3/envs/kuliah/lib/python3.8/site-packages/pyspark/python/lib/pyspark.zip/pyspark/worker.py\", line 663, in main\n",
      "    if read_int(infile) == SpecialLengths.END_OF_STREAM:\n",
      "  File \"/Users/mhihsan/miniconda3/envs/kuliah/lib/python3.8/site-packages/pyspark/python/lib/pyspark.zip/pyspark/serializers.py\", line 564, in read_int\n",
      "    raise EOFError\n",
      "EOFError\n",
      "                                                                                \r"
     ]
    },
    {
     "data": {
      "text/html": [
       "SUBJECTIVE: This 23-year-old white female presents with complaint of <span style=\"background-color: yellow;\">allergies</span>. She <span style=\"background-color: yellow;\">used</span> to have <span style=\"background-color: yellow;\">allergies</span> when she lived in <span style=\"background-color: yellow;\">Seattle</span> but she thinks they are worse here. In the past, she has tried <span style=\"background-color: yellow;\">Claritin</span>, and <span style=\"background-color: yellow;\">Zyrtec</span>. Both worked for short time but then seemed to lose effectiveness. She has <span style=\"background-color: yellow;\">used</span> <span style=\"background-color: yellow;\">Allegra</span> also. She <span style=\"background-color: yellow;\">used</span> that last summer and she began using it again <span style=\"background-color: yellow;\">two</span> <span style=\"background-color: yellow;\">weeks</span> ago. It does not appear to be working very <span style=\"background-color: yellow;\">well</span>. She has <span style=\"background-color: yellow;\">used</span> over-the-counter <span style=\"background-color: yellow;\">sprays</span> but no <span style=\"background-color: yellow;\">prescription</span> <span style=\"background-color: yellow;\">nasal</span> <span style=\"background-color: yellow;\">sprays</span>. She does have asthma but doest not require daily <span style=\"background-color: yellow;\">medication</span> for this and does not <span style=\"background-color: yellow;\">think</span> it is flaring up. MEDICATIONS: Her only <span style=\"background-color: yellow;\">medication</span> currently is <span style=\"background-color: yellow;\">Ortho</span> Tri-Cyclen and the <span style=\"background-color: yellow;\">Allegra</span>. <span style=\"background-color: yellow;\">ALLERGIES</span>: She has no known medicine <span style=\"background-color: yellow;\">allergies</span>. OBJECTIVE: Vitals: <span style=\"background-color: yellow;\">Weight</span> was 130 pounds and blood pressure 124/78. HEENT: Her throat was mildly <span style=\"background-color: yellow;\">erythematous</span> <span style=\"background-color: yellow;\">without</span> exudate. <span style=\"background-color: yellow;\">Nasal</span> mucosa was <span style=\"background-color: yellow;\">erythematous</span> and swollen. Only <span style=\"background-color: yellow;\">clear</span> drainage was seen. TMs were <span style=\"background-color: yellow;\">clear</span>. Neck: Supple <span style=\"background-color: yellow;\">without</span> adenopathy. Lungs: <span style=\"background-color: yellow;\">Clear</span>. ASSESSMENT: Allergic rhinitis. PLAN: 1. She will try <span style=\"background-color: yellow;\">Zyrtec</span> instead of <span style=\"background-color: yellow;\">Allegra</span> again. Another option will be to use loratadine. She does not <span style=\"background-color: yellow;\">think</span> she has <span style=\"background-color: yellow;\">prescription</span> coverage so that might be cheaper. 2. Samples of Nasonex <span style=\"background-color: yellow;\">two</span> <span style=\"background-color: yellow;\">sprays</span> in each nostril given for three <span style=\"background-color: yellow;\">weeks</span>. A <span style=\"background-color: yellow;\">prescription</span> was written as <span style=\"background-color: yellow;\">well</span>. "
      ],
      "text/plain": [
       "<IPython.core.display.HTML object>"
      ]
     },
     "metadata": {},
     "output_type": "display_data"
    },
    {
     "name": "stdout",
     "output_type": "stream",
     "text": [
      "\n",
      "\n",
      "\n"
     ]
    },
    {
     "data": {
      "text/html": [
       "<span style=\"background-color: yellow;\">HISTORY</span>: A 34-year-old male presents today self-referred at the recommendation of Emergency Room physicians and his nephrologist to pursue further allergy evaluation and <span style=\"background-color: yellow;\">treatment</span>. Please refer to chart for <span style=\"background-color: yellow;\">history</span> and physical, as well as the <span style=\"background-color: yellow;\">medical</span> records regarding his <span style=\"background-color: yellow;\">allergic</span> <span style=\"background-color: yellow;\">reaction</span> <span style=\"background-color: yellow;\">treatment</span> at ABC <span style=\"background-color: yellow;\">Medical</span> <span style=\"background-color: yellow;\">Center</span> for further details and studies. In summary, the <span style=\"background-color: yellow;\">patient</span> had an <span style=\"background-color: yellow;\">acute</span> event of perioral swelling, etiology uncertain, occurring on 05/03/2008 requiring transfer from ABC <span style=\"background-color: yellow;\">Medical</span> <span style=\"background-color: yellow;\">Center</span> to XYZ <span style=\"background-color: yellow;\">Medical</span> <span style=\"background-color: yellow;\">Center</span> due to a <span style=\"background-color: yellow;\">history</span> of <span style=\"background-color: yellow;\">renal</span> <span style=\"background-color: yellow;\">failure</span> requiring <span style=\"background-color: yellow;\">dialysis</span> and he was admitted and treated and felt that his allergy <span style=\"background-color: yellow;\">reaction</span> was to Keflex, which was being used to treat a skin cellulitis <span style=\"background-color: yellow;\">dialysis</span> shunt infection. In summary, the <span style=\"background-color: yellow;\">patient</span> states he has some problems with tolerating grass <span style=\"background-color: yellow;\">allergies</span>, environmental and inhalant <span style=\"background-color: yellow;\">allergies</span> occasionally, but has never had anaphylactic or angioedema reactions. He currently is not taking any medication for <span style=\"background-color: yellow;\">allergies</span>. He is taking atenolol for blood pressure control. No further problems have been <span style=\"background-color: yellow;\">noted</span> upon his discharge and <span style=\"background-color: yellow;\">treatment</span>, which included corticosteroid therapy and antihistamine therapy and monitoring. PAST <span style=\"background-color: yellow;\">MEDICAL</span> <span style=\"background-color: yellow;\">HISTORY</span>: <span style=\"background-color: yellow;\">History</span> of urticaria, <span style=\"background-color: yellow;\">history</span> of <span style=\"background-color: yellow;\">renal</span> <span style=\"background-color: yellow;\">failure</span> with <span style=\"background-color: yellow;\">hypertension</span> possible source of <span style=\"background-color: yellow;\">renal</span> <span style=\"background-color: yellow;\">failure</span>, <span style=\"background-color: yellow;\">history</span> of <span style=\"background-color: yellow;\">dialysis</span> times 2 years and a <span style=\"background-color: yellow;\">history</span> of <span style=\"background-color: yellow;\">hypertension</span>. PAST SURGICAL <span style=\"background-color: yellow;\">HISTORY</span>: PermCath insertion times 3 and peritoneal <span style=\"background-color: yellow;\">dialysis</span>. FAMILY <span style=\"background-color: yellow;\">HISTORY</span>: Strong for heart disease, carcinoma, and a <span style=\"background-color: yellow;\">history</span> of food <span style=\"background-color: yellow;\">allergies</span>, and there is also a <span style=\"background-color: yellow;\">history</span> of <span style=\"background-color: yellow;\">hypertension</span>. CURRENT MEDICATIONS: Atenolol, sodium bicarbonate, Lovaza, and Dialyvite. <span style=\"background-color: yellow;\">ALLERGIES</span>: Heparin causing thrombocytopenia. SOCIAL <span style=\"background-color: yellow;\">HISTORY</span>: Denies tobacco or alcohol use. PHYSICAL EXAMINATION: VITAL SIGNS: Age 34, blood pressure 128/78, pulse 70, temperature is 97.8, weight is 207 pounds, and height is 5 feet 7 inches. GENERAL: The <span style=\"background-color: yellow;\">patient</span> is healthy appearing; alert and oriented to person, place and time; responds appropriately; in no <span style=\"background-color: yellow;\">acute</span> distress. HEAD: Normocephalic. No <span style=\"background-color: yellow;\">masses</span> or <span style=\"background-color: yellow;\">lesions</span> <span style=\"background-color: yellow;\">noted</span>. FACE: No facial tenderness or asymmetry <span style=\"background-color: yellow;\">noted</span>. EYES: Pupils are equal, round and reactive to light and accommodation <span style=\"background-color: yellow;\">bilaterally</span>. Extraocular movements are intact <span style=\"background-color: yellow;\">bilaterally</span>. EARS: The tympanic membranes are intact <span style=\"background-color: yellow;\">bilaterally</span> with a good light reflex. The external auditory canals are clear with no <span style=\"background-color: yellow;\">lesions</span> or <span style=\"background-color: yellow;\">masses</span> <span style=\"background-color: yellow;\">noted</span>. Weber and Rinne tests are within normal limits. NOSE: The nasal cavities are patent <span style=\"background-color: yellow;\">bilaterally</span>. The nasal septum is midline. There are no nasal discharges. No <span style=\"background-color: yellow;\">masses</span> or <span style=\"background-color: yellow;\">lesions</span> <span style=\"background-color: yellow;\">noted</span>. THROAT: The oral mucosa appears healthy. Dental hygiene is maintained well. No oropharyngeal <span style=\"background-color: yellow;\">masses</span> or <span style=\"background-color: yellow;\">lesions</span> <span style=\"background-color: yellow;\">noted</span>. No postnasal drip <span style=\"background-color: yellow;\">noted</span>. NECK: The neck is supple with no adenopathy or <span style=\"background-color: yellow;\">masses</span> palpated. The trachea is midline. The thyroid gland is of normal size with no nodules. NEUROLOGIC: Facial nerve is intact <span style=\"background-color: yellow;\">bilaterally</span>. The remaining cranial nerves are intact without focal deficit. LUNGS: Clear to auscultation <span style=\"background-color: yellow;\">bilaterally</span>. No wheeze <span style=\"background-color: yellow;\">noted</span>. HEART: Regular rate and rhythm. No murmur <span style=\"background-color: yellow;\">noted</span>. IMPRESSION: 1. <span style=\"background-color: yellow;\">Acute</span> <span style=\"background-color: yellow;\">allergic</span> <span style=\"background-color: yellow;\">reaction</span>, etiology uncertain, however, suspicious for Keflex. 2. <span style=\"background-color: yellow;\">Renal</span> <span style=\"background-color: yellow;\">failure</span> requiring <span style=\"background-color: yellow;\">dialysis</span>. 3. <span style=\"background-color: yellow;\">Hypertension</span>. RECOMMENDATIONS: RAST allergy testing for both food and environmental <span style=\"background-color: yellow;\">allergies</span> was performed, and we will get the results back to the <span style=\"background-color: yellow;\">patient</span> with further recommendations to follow. If there is any specific food or inhalant allergen that is found to be quite high on the sensitivity scale, we would probably recommend the <span style=\"background-color: yellow;\">patient</span> to avoid the offending agent to hold off on any further reactions. At this point, I would recommend the <span style=\"background-color: yellow;\">patient</span> stopping any further use of cephalosporin antibiotics, which may be the cause of his <span style=\"background-color: yellow;\">allergic</span> <span style=\"background-color: yellow;\">reaction</span>, and I would consider this an allergy. Being on atenolol, the <span style=\"background-color: yellow;\">patient</span> has a more difficult time treating <span style=\"background-color: yellow;\">acute</span> anaphylaxis, but I do think this is medically necessary at this time and hopefully we can find specific causes for his <span style=\"background-color: yellow;\">allergic</span> reactions. An EpiPen was also prescribed in the event of <span style=\"background-color: yellow;\">acute</span> angioedema or <span style=\"background-color: yellow;\">allergic</span> <span style=\"background-color: yellow;\">reaction</span> or sensation of impending <span style=\"background-color: yellow;\">allergic</span> <span style=\"background-color: yellow;\">reaction</span> and he is aware he needs to proceed directly to the emergency room for further evaluation and <span style=\"background-color: yellow;\">treatment</span> recommendations after administration of an EpiPen. "
      ],
      "text/plain": [
       "<IPython.core.display.HTML object>"
      ]
     },
     "metadata": {},
     "output_type": "display_data"
    },
    {
     "name": "stdout",
     "output_type": "stream",
     "text": [
      "\n",
      "\n",
      "\n"
     ]
    },
    {
     "data": {
      "text/html": [
       "\"CHIEF COMPLAINT: This 5-year-old <span style=\"background-color: yellow;\">male</span> <span style=\"background-color: yellow;\">presents</span> to Children's <span style=\"background-color: yellow;\">Hospital</span> <span style=\"background-color: yellow;\">Emergency</span> <span style=\"background-color: yellow;\">Department</span> by the <span style=\"background-color: yellow;\">mother</span> with \"\"have asthma.\"\" <span style=\"background-color: yellow;\">Mother</span> <span style=\"background-color: yellow;\">states</span> he has been <span style=\"background-color: yellow;\">wheezing</span> and <span style=\"background-color: yellow;\">coughing</span>. They <span style=\"background-color: yellow;\">saw</span> their <span style=\"background-color: yellow;\">primary</span> <span style=\"background-color: yellow;\">medical</span> <span style=\"background-color: yellow;\">doctor</span>. He was <span style=\"background-color: yellow;\">evaluated</span> at the <span style=\"background-color: yellow;\">clinic</span>"
      ],
      "text/plain": [
       "<IPython.core.display.HTML object>"
      ]
     },
     "metadata": {},
     "output_type": "display_data"
    },
    {
     "name": "stdout",
     "output_type": "stream",
     "text": [
      "\n",
      "\n",
      "\n"
     ]
    },
    {
     "data": {
      "text/html": [
       "HISTORY: I had the pleasure of meeting and evaluating the <span style=\"background-color: yellow;\">patient</span> referred today for evaluation and treatment of chronic <span style=\"background-color: yellow;\">sinusitis</span>. As you are well aware, she is a pleasant 50-year-old female who states she started having severe <span style=\"background-color: yellow;\">sinusitis</span> about two to three months ago with <span style=\"background-color: yellow;\">facial</span> discomfort, <span style=\"background-color: yellow;\">nasal</span> congestion, eye pain, and postnasal drip <span style=\"background-color: yellow;\">symptoms</span>. She states she really has sinus <span style=\"background-color: yellow;\">problems</span>, but this infection has been rather severe and she notes she has not had <span style=\"background-color: yellow;\">much</span> <span style=\"background-color: yellow;\">improvement</span> with antibiotics. She had a CT of her paranasal <span style=\"background-color: yellow;\">sinuses</span> identifying mild mucosal thickening of right paranasal <span style=\"background-color: yellow;\">sinuses</span> with occlusion of the ostiomeatal complex on the right and <span style=\"background-color: yellow;\">turbinate</span> <span style=\"background-color: yellow;\">hypertrophy</span> was also <span style=\"background-color: yellow;\">noted</span> when I reviewed the films and there is some minimal <span style=\"background-color: yellow;\">nasal</span> <span style=\"background-color: yellow;\">septum</span> deviation to the left. She currently is not taking any medication for her <span style=\"background-color: yellow;\">sinuses</span>. She also has <span style=\"background-color: yellow;\">noted</span> that she is having some <span style=\"background-color: yellow;\">problems</span> with her balance and possible hearing loss or at least <span style=\"background-color: yellow;\">ear</span> popping and fullness. Her audiogram today demonstrated mild high frequency sensorineural hearing loss, <span style=\"background-color: yellow;\">normal</span> tympanometry, and <span style=\"background-color: yellow;\">normal</span> speech discrimination. She has tried topical <span style=\"background-color: yellow;\">nasal</span> corticosteroid therapy without <span style=\"background-color: yellow;\">much</span> <span style=\"background-color: yellow;\">improvement</span>. She tried Allegra without <span style=\"background-color: yellow;\">much</span> <span style=\"background-color: yellow;\">improvement</span> and she believes the Allegra may have caused <span style=\"background-color: yellow;\">problems</span> with balance to worsen. She notes her <span style=\"background-color: yellow;\">dizziness</span> to be <span style=\"background-color: yellow;\">much</span> worse if she does quick positional changes such as head turning or sudden movements, no <span style=\"background-color: yellow;\">ear</span> fullness, pressure, humming, buzzing or roaring <span style=\"background-color: yellow;\">noted</span> in her ears. She denies any previous history of sinus surgery or <span style=\"background-color: yellow;\">nasal</span> injury. She believes she has some degree of allergy <span style=\"background-color: yellow;\">symptoms</span>. PAST MEDICAL HISTORY: Seasonal allergies, possible food allergies, chronic <span style=\"background-color: yellow;\">sinusitis</span>, hypertension and history of weight change. She is currently 180 pounds. PAST SURGICAL HISTORY: Lower extremity vein stripping, tonsillectomy and adenoidectomy. FAMILY HISTORY: Strong for heart disease and alcoholism. CURRENT MEDICATIONS: DynaCirc. ALLERGIES: Egg-based products cause hives. SOCIAL HISTORY: The <span style=\"background-color: yellow;\">patient</span> used to smoke cigarettes for about 20 years, one-half pack a day. She currently does not, which was encouraged to continue. She rarely drinks any alcohol-containing beverages. PHYSICAL EXAMINATION: VITAL SIGNS: Age 50, blood pressure is 136/74, pulse 84, temperature is 98.4, weight is 180 pounds, and height is 5 feet 3 inches. GENERAL: The <span style=\"background-color: yellow;\">patient</span> is healthy appearing; alert and oriented to person, place and time; responds appropriately; in no <span style=\"background-color: yellow;\">acute</span> distress. HEAD: Normocephalic. No masses or lesions <span style=\"background-color: yellow;\">noted</span>. FACE: No <span style=\"background-color: yellow;\">facial</span> tenderness or asymmetry <span style=\"background-color: yellow;\">noted</span>. EYES: Pupils are equal, round and reactive to light and accommodation <span style=\"background-color: yellow;\">bilaterally</span>. Extraocular movements are <span style=\"background-color: yellow;\">intact</span> <span style=\"background-color: yellow;\">bilaterally</span>. No nystagmus. EARS: During Hallpike examination, the <span style=\"background-color: yellow;\">patient</span> did not become dizzy until she would be placed back into sitting in the upright position. No nystagmus was appreciated; however, the <span style=\"background-color: yellow;\">patient</span> did subjectively report <span style=\"background-color: yellow;\">dizziness</span>, which was repeated twice. No evidence of any orthostatic hypotension was <span style=\"background-color: yellow;\">noted</span> during the exam. Tympanic membranes were <span style=\"background-color: yellow;\">noted</span> to be <span style=\"background-color: yellow;\">intact</span>. No signs of middle <span style=\"background-color: yellow;\">ear</span> effusion or <span style=\"background-color: yellow;\">ear</span> canal inflammation. NOSE: The <span style=\"background-color: yellow;\">patient</span> appears congested. <span style=\"background-color: yellow;\">Turbinate</span> <span style=\"background-color: yellow;\">hypertrophy</span> is <span style=\"background-color: yellow;\">noted</span>. There are no signs of any <span style=\"background-color: yellow;\">acute</span> <span style=\"background-color: yellow;\">sinusitis</span>. <span style=\"background-color: yellow;\">Septum</span> is midline, slightly deviated to the left. THROAT: There is clear postnasal drip. Oral hygiene is good. No masses or lesions <span style=\"background-color: yellow;\">noted</span>. Both vocal cords move well to midline. NECK: The neck is supple with no adenopathy or masses palpated. The trachea is midline. The thyroid gland is of <span style=\"background-color: yellow;\">normal</span> size with no nodules. LUNGS: Clear to auscultation <span style=\"background-color: yellow;\">bilaterally</span>. No wheeze <span style=\"background-color: yellow;\">noted</span>. HEART: Regular rate and rhythm. No murmur <span style=\"background-color: yellow;\">noted</span>. NEUROLOGIC: <span style=\"background-color: yellow;\">Facial</span> nerve is <span style=\"background-color: yellow;\">intact</span> <span style=\"background-color: yellow;\">bilaterally</span>. The remaining cranial nerves are <span style=\"background-color: yellow;\">intact</span> without focal deficit. PROCEDURE: Fiberoptic nasopharyngoscopy identifying <span style=\"background-color: yellow;\">turbinate</span> <span style=\"background-color: yellow;\">hypertrophy</span> and <span style=\"background-color: yellow;\">nasal</span> <span style=\"background-color: yellow;\">septum</span> deviation to the left, more significant posteriorly. IMPRESSION: 1. Probable increasing <span style=\"background-color: yellow;\">problems</span> with allergic rhinitis and chronic <span style=\"background-color: yellow;\">sinusitis</span>, both contributing to the <span style=\"background-color: yellow;\">patient</span>'s <span style=\"background-color: yellow;\">symptoms</span>. 2. Subjective <span style=\"background-color: yellow;\">dizziness</span>, etiology uncertain; however, consider positional vertigo versus vestibular neuronitis as possible <span style=\"background-color: yellow;\">ear</span> causes of <span style=\"background-color: yellow;\">dizziness</span>, cannot rule out systemic, central or medication or causes at this time. 3. Inferior <span style=\"background-color: yellow;\">turbinate</span> <span style=\"background-color: yellow;\">hypertrophy</span>. 4. <span style=\"background-color: yellow;\">Nasal</span> <span style=\"background-color: yellow;\">septum</span> deformity. RECOMMENDATIONS: An ENG was ordered to evaluate vestibular function. She was placed on Veramyst <span style=\"background-color: yellow;\">nasal</span> spray two sprays each nostril <span style=\"background-color: yellow;\">daily</span> and even twice <span style=\"background-color: yellow;\">daily</span> if <span style=\"background-color: yellow;\">symptoms</span> are worsening. A Medrol Dosepak was prescribed as directed. The <span style=\"background-color: yellow;\">patient</span> was given instruction on use of <span style=\"background-color: yellow;\">nasal</span> saline irrigation to be used twice <span style=\"background-color: yellow;\">daily</span> and Clarinex 5 mg <span style=\"background-color: yellow;\">daily</span> was recommended. After the patients' ENG examination, we will see the <span style=\"background-color: yellow;\">patient</span> back for further evaluation and treatment recommendations. In light of the <span style=\"background-color: yellow;\">patient</span>'s atypical <span style=\"background-color: yellow;\">dizziness</span> <span style=\"background-color: yellow;\">symptoms</span>, I cannot rule out other pathology at this time, and I informed her if there are any <span style=\"background-color: yellow;\">acute</span> changes or <span style=\"background-color: yellow;\">problems</span> with regards to her balance or any other <span style=\"background-color: yellow;\">acute</span> changes, which she attributes associated with her <span style=\"background-color: yellow;\">dizziness</span>, she most likely should pursue an emergent visit to the emergency room. Thank you for allowing me to participate with the care of your <span style=\"background-color: yellow;\">patient</span>. "
      ],
      "text/plain": [
       "<IPython.core.display.HTML object>"
      ]
     },
     "metadata": {},
     "output_type": "display_data"
    },
    {
     "name": "stdout",
     "output_type": "stream",
     "text": [
      "\n",
      "\n",
      "\n"
     ]
    },
    {
     "data": {
      "text/html": [
       "<span style=\"background-color: yellow;\">HISTORY</span>: A 55-year-old female presents self-referred for the possibility of <span style=\"background-color: yellow;\">evaluation</span> and <span style=\"background-color: yellow;\">treatment</span> of <span style=\"background-color: yellow;\">allergies</span>, diminished taste, xerostomia, <span style=\"background-color: yellow;\">gastroesophageal</span> reflux <span style=\"background-color: yellow;\">disease</span>, possible <span style=\"background-color: yellow;\">food</span> <span style=\"background-color: yellow;\">allergies</span>, <span style=\"background-color: yellow;\">chronic</span> <span style=\"background-color: yellow;\">GI</span> irritability, <span style=\"background-color: yellow;\">asthma</span>, and <span style=\"background-color: yellow;\">environmental</span> <span style=\"background-color: yellow;\">inhalant</span> <span style=\"background-color: yellow;\">allergies</span>. Please refer to chart for <span style=\"background-color: yellow;\">history</span> and physical and review of systems and detailed medical <span style=\"background-color: yellow;\">history</span>. IMPRESSION: 1. <span style=\"background-color: yellow;\">Chronic</span> glossitis/xerostomia/probable <span style=\"background-color: yellow;\">environmental</span> <span style=\"background-color: yellow;\">inhalant</span> <span style=\"background-color: yellow;\">allergies</span>/probable <span style=\"background-color: yellow;\">food</span> <span style=\"background-color: yellow;\">allergies</span>/<span style=\"background-color: yellow;\">history</span> of <span style=\"background-color: yellow;\">asthma</span>. 2. <span style=\"background-color: yellow;\">History</span> of fibromyalgia. 3. <span style=\"background-color: yellow;\">History</span> of peptic ulcer <span style=\"background-color: yellow;\">disease</span>, <span style=\"background-color: yellow;\">history</span> of gastritis, <span style=\"background-color: yellow;\">history</span> of <span style=\"background-color: yellow;\">gastroesophageal</span> <span style=\"background-color: yellow;\">disease</span>. 4. <span style=\"background-color: yellow;\">History</span> of <span style=\"background-color: yellow;\">chronic</span> fatigue. 5. <span style=\"background-color: yellow;\">History</span> of hypothyroidism. 6. <span style=\"background-color: yellow;\">History</span> of depression. 7. <span style=\"background-color: yellow;\">History</span> of dysphagia. RECOMMENDATIONS: <span style=\"background-color: yellow;\">RAST</span> <span style=\"background-color: yellow;\">allergy</span> <span style=\"background-color: yellow;\">testing</span> was ordered for <span style=\"background-color: yellow;\">food</span> <span style=\"background-color: yellow;\">allergy</span> <span style=\"background-color: yellow;\">evaluation</span>. The <span style=\"background-color: yellow;\">patient</span> had previous <span style=\"background-color: yellow;\">allergy</span> <span style=\"background-color: yellow;\">testing</span> done less than one year ago iby Dr. X, which was requested. The <span style=\"background-color: yellow;\">patient</span> will follow up after <span style=\"background-color: yellow;\">RAST</span> <span style=\"background-color: yellow;\">allergy</span> <span style=\"background-color: yellow;\">testing</span> for further <span style=\"background-color: yellow;\">treatment</span> recommendations. At this point, no changes in her medication were prescribed until her followup visit. "
      ],
      "text/plain": [
       "<IPython.core.display.HTML object>"
      ]
     },
     "metadata": {},
     "output_type": "display_data"
    },
    {
     "name": "stdout",
     "output_type": "stream",
     "text": [
      "\n",
      "\n",
      "\n"
     ]
    },
    {
     "data": {
      "text/html": [
       "SUBJECTIVE: This is a 42-year-old white female who comes in today for a complete physical and follow up on <span style=\"background-color: yellow;\">asthma</span>. She says her <span style=\"background-color: yellow;\">asthma</span> has been <span style=\"background-color: yellow;\">worse</span> over the last three months. She has been <span style=\"background-color: yellow;\">using</span> her inhaler <span style=\"background-color: yellow;\">daily</span>. Her allergies seem to be a little bit <span style=\"background-color: yellow;\">worse</span> as well. Her husband has been hauling corn and this <span style=\"background-color: yellow;\">seems</span> to aggravate things. She has not been taking <span style=\"background-color: yellow;\">Allegra</span> <span style=\"background-color: yellow;\">daily</span> but when she does take it, it <span style=\"background-color: yellow;\">seems</span> to help somewhat. She has not been taking her <span style=\"background-color: yellow;\">Flonase</span> which has helped her in the <span style=\"background-color: yellow;\">past</span>. She also notes that in the <span style=\"background-color: yellow;\">past</span> she was on <span style=\"background-color: yellow;\">Advair</span> but she got some <span style=\"background-color: yellow;\">vaginal</span> irritation with that. She had been noticing increasing symptoms of irritability and PMS around her menstrual <span style=\"background-color: yellow;\">cycle</span>. She has been more impatient around that time. Says otherwise her mood is <span style=\"background-color: yellow;\">normal</span> during the rest of the month. It usually is <span style=\"background-color: yellow;\">worse</span> the week before her <span style=\"background-color: yellow;\">cycle</span> and improves the day her menstrual <span style=\"background-color: yellow;\">cycle</span> starts. Menses have been regular but somewhat shorter than in the <span style=\"background-color: yellow;\">past</span>. Occasionally she will <span style=\"background-color: yellow;\">get</span> some spotting after her cycles. She denies any hot flashes or night sweats with this. In reviewing the chart it is noted that she did have 3+ blood with what appeared to be a urinary tract infection previously. Her urine has not been rechecked. She recently had lab work and cholesterol drawn for a life insurance application and is going to send me those results when available. REVIEW OF SYSTEMS: As above. No fevers, no headaches, no shortness of breath currently. No chest <span style=\"background-color: yellow;\">pain</span> or tightness. No abdominal <span style=\"background-color: yellow;\">pain</span>, no heartburn, no constipation, diarrhea or dysuria. Occasional stress incontinence. No muscle or joint <span style=\"background-color: yellow;\">pain</span>. No concerns about her skin. No polyphagia, polydipsia or polyuria. <span style=\"background-color: yellow;\">PAST</span> MEDICAL HISTORY: Significant for <span style=\"background-color: yellow;\">asthma</span>, allergic rhinitis and <span style=\"background-color: yellow;\">cervical</span> dysplasia. SOCIAL HISTORY: She is married. She is a nonsmoker. MEDICATIONS: <span style=\"background-color: yellow;\">Proventil</span> and <span style=\"background-color: yellow;\">Allegra</span>. ALLERGIES: Sulfa. OBJECTIVE: Vital signs: Her weight is 151 pounds. Blood pressure is 110/60. Pulse is 72. Temperature is 97.1 degrees. Respirations are 20. General: This is a well-developed, well-nourished 42-year-old white female, alert and oriented in no acute distress. Affect is appropriate and is pleasant. HEENT: Normocephalic, atraumatic. Tympanic membranes are <span style=\"background-color: yellow;\">clear</span>. Conjunctivae are <span style=\"background-color: yellow;\">clear</span>. Pupils are equal, round and reactive to light. Nares <span style=\"background-color: yellow;\">without</span> turbinate edema. Oropharynx is nonerythematous. Neck: Supple <span style=\"background-color: yellow;\">without</span> lymphadenopathy, thyromegaly, carotid bruit or JVD. Chest: <span style=\"background-color: yellow;\">Clear</span> to auscultation bilaterally. Cardiovascular: Regular rate and rhythm <span style=\"background-color: yellow;\">without</span> murmur. Abdomen: Soft, nontender, nondistended. Normoactive bowel sounds. No <span style=\"background-color: yellow;\">masses</span> or organomegaly to palpation. Extremities: <span style=\"background-color: yellow;\">Without</span> cyanosis or edema. Skin: <span style=\"background-color: yellow;\">Without</span> abnormalities. Breasts: <span style=\"background-color: yellow;\">Normal</span> symmetrical breasts <span style=\"background-color: yellow;\">without</span> dimpling or retraction. No nipple discharge. No <span style=\"background-color: yellow;\">masses</span> or lesions to palpation. No axillary <span style=\"background-color: yellow;\">masses</span> or lymphadenopathy. Genitourinary: <span style=\"background-color: yellow;\">Normal</span> external genitalia. The walls of the <span style=\"background-color: yellow;\">vaginal</span> vault are visualized with <span style=\"background-color: yellow;\">normal</span> pink rugae with no lesions noted. Cervix is visualized <span style=\"background-color: yellow;\">without</span> lesion. She has a moderate amount of thick white/yellow <span style=\"background-color: yellow;\">vaginal</span> discharge in the <span style=\"background-color: yellow;\">vaginal</span> vault. No <span style=\"background-color: yellow;\">cervical</span> motion tenderness. No adnexal tenderness or fullness. ASSESSMENT/PLAN: 1. <span style=\"background-color: yellow;\">Asthma</span>. <span style=\"background-color: yellow;\">Seems</span> to be <span style=\"background-color: yellow;\">worse</span> than in the <span style=\"background-color: yellow;\">past</span>. She is just <span style=\"background-color: yellow;\">using</span> her <span style=\"background-color: yellow;\">Proventil</span> inhaler but is <span style=\"background-color: yellow;\">using</span> it <span style=\"background-color: yellow;\">daily</span>. We will add Flovent 44 mcg two puffs p.o. b.i.d. <span style=\"background-color: yellow;\">May</span> need to increase the dose. She did <span style=\"background-color: yellow;\">get</span> some <span style=\"background-color: yellow;\">vaginal</span> irritation with <span style=\"background-color: yellow;\">Advair</span> in the <span style=\"background-color: yellow;\">past</span> but she is willing to retry that if it is necessary. <span style=\"background-color: yellow;\">May</span> also need to consider Singulair. She is to call me if she is not improving. If her shortness of breath worsens she is to call me or go into the emergency department. We will plan on following up for reevaluation in one month. 2. Allergic rhinitis. We will plan on restarting <span style=\"background-color: yellow;\">Allegra</span> and <span style=\"background-color: yellow;\">Flonase</span> <span style=\"background-color: yellow;\">daily</span> for the time being. 3. Premenstrual dysphoric disorder. She <span style=\"background-color: yellow;\">may</span> have some perimenopausal symptoms. We will start her on fluoxetine 20 mg one tablet p.o. q.d. 4. Hematuria. Likely this is secondary to urinary tract infection but we will repeat a UA to document clearing. She does have some frequent dysuria but is not having it currently. 5. <span style=\"background-color: yellow;\">Cervical</span> dysplasia. Pap smear is taken. We will notify the patient of results. If <span style=\"background-color: yellow;\">normal</span> we will go back to yearly Pap smear. She is scheduled for screening mammogram and instructed on monthly self-breast exam techniques. Recommend she <span style=\"background-color: yellow;\">get</span> 1200 mg of calcium and 400 U of vitamin D a day. "
      ],
      "text/plain": [
       "<IPython.core.display.HTML object>"
      ]
     },
     "metadata": {},
     "output_type": "display_data"
    },
    {
     "name": "stdout",
     "output_type": "stream",
     "text": [
      "\n",
      "\n",
      "\n"
     ]
    },
    {
     "data": {
      "text/html": [
       "ADMITTING DIAGNOSIS: <span style=\"background-color: yellow;\">Kawasaki</span> <span style=\"background-color: yellow;\">disease</span>. <span style=\"background-color: yellow;\">DISCHARGE</span> DIAGNOSIS: <span style=\"background-color: yellow;\">Kawasaki</span> <span style=\"background-color: yellow;\">disease</span>, <span style=\"background-color: yellow;\">resolving</span>. <span style=\"background-color: yellow;\">HOSPITAL</span> COURSE: This is a 14-month-old baby boy Caucasian who came in with presumptive diagnosis of <span style=\"background-color: yellow;\">Kawasaki</span> with <span style=\"background-color: yellow;\">fever</span> for more than 5 <span style=\"background-color: yellow;\">days</span> and <span style=\"background-color: yellow;\">conjunctivitis</span>, mild arthritis with edema, <span style=\"background-color: yellow;\">rash</span>, <span style=\"background-color: yellow;\">resolving</span> and with <span style=\"background-color: yellow;\">elevated</span> neutrophils and thrombocytosis, <span style=\"background-color: yellow;\">elevated</span> CRP and ESR. When he was <span style=\"background-color: yellow;\">sent</span> to the <span style=\"background-color: yellow;\">hospital</span>, he had a <span style=\"background-color: yellow;\">fever</span> of 102. Subsequently, the patient was evaluated and based on the criteria, he was started on <span style=\"background-color: yellow;\">high</span> <span style=\"background-color: yellow;\">dose</span> of <span style=\"background-color: yellow;\">aspirin</span> and <span style=\"background-color: yellow;\">IVIG</span>. Echocardiogram was <span style=\"background-color: yellow;\">also</span> <span style=\"background-color: yellow;\">done</span>, which was negative. <span style=\"background-color: yellow;\">IVIG</span> was <span style=\"background-color: yellow;\">done</span> x1, and between 12 hours of <span style=\"background-color: yellow;\">IVIG</span>, he spiked <span style=\"background-color: yellow;\">fever</span> again; it was repeated twice, and then after second <span style=\"background-color: yellow;\">IVIG</span>, he did not spike any more <span style=\"background-color: yellow;\">fever</span>. Today, his <span style=\"background-color: yellow;\">fever</span> and his <span style=\"background-color: yellow;\">rash</span> have completely resolved. He does not have any <span style=\"background-color: yellow;\">conjunctivitis</span> and no redness of mucous membranes. He is more calm and quite and taking good p.o.; so with a very close <span style=\"background-color: yellow;\">followup</span> and a cardiac <span style=\"background-color: yellow;\">followup</span>, he will be <span style=\"background-color: yellow;\">sent</span> home. <span style=\"background-color: yellow;\">DISCHARGE</span> ACTIVITIES: Ad-lib. <span style=\"background-color: yellow;\">DISCHARGE</span> DIET: PO ad-lib. <span style=\"background-color: yellow;\">DISCHARGE</span> MEDICATIONS: <span style=\"background-color: yellow;\">Aspirin</span> <span style=\"background-color: yellow;\">high</span> <span style=\"background-color: yellow;\">dose</span> 340 <span style=\"background-color: yellow;\">mg</span> q.6h. for 1 day and then <span style=\"background-color: yellow;\">aspirin</span> low <span style=\"background-color: yellow;\">dose</span> 40 <span style=\"background-color: yellow;\">mg</span> q.d. for 14 <span style=\"background-color: yellow;\">days</span> and then Prevacid <span style=\"background-color: yellow;\">also</span> to prevent his GI from <span style=\"background-color: yellow;\">aspirin</span> 15 <span style=\"background-color: yellow;\">mg</span> p.o. once a day. He will be followed by his primary doctor in 2 to 3 <span style=\"background-color: yellow;\">days</span>. Cardiology for echo <span style=\"background-color: yellow;\">followup</span> in 4 to 6 weeks and instructed not to give any vaccine in less than 11 months because of <span style=\"background-color: yellow;\">IVIG</span>, all the live virus vaccine, and if he gets any rashes, any fevers, should go to primary care doctor as soon as possible. "
      ],
      "text/plain": [
       "<IPython.core.display.HTML object>"
      ]
     },
     "metadata": {},
     "output_type": "display_data"
    },
    {
     "name": "stdout",
     "output_type": "stream",
     "text": [
      "\n",
      "\n",
      "\n"
     ]
    },
    {
     "data": {
      "text/html": [
       "EXTERNAL <span style=\"background-color: yellow;\">EXAMINATION</span> - <span style=\"background-color: yellow;\">SUMMARY</span> The <span style=\"background-color: yellow;\">body</span> is presented in a black <span style=\"background-color: yellow;\">body</span> bag. At the <span style=\"background-color: yellow;\">time</span> of <span style=\"background-color: yellow;\">examination</span>, the <span style=\"background-color: yellow;\">body</span> is clothed in a long-sleeved red cotton thermal shirt, khaki twill cargo pants, and one black shoe. The <span style=\"background-color: yellow;\">body</span> is that of a normally developed, well nourished Caucasian <span style=\"background-color: yellow;\">female</span> measuring 63 <span style=\"background-color: yellow;\">inches</span> in length, weighing 114 pounds, and appearing generally consistent with the stated age of thirty-five years. The <span style=\"background-color: yellow;\">body</span> is cold and unembalmed with declining rigor. Pronounced unblanching lividity is present on the posterior of the <span style=\"background-color: yellow;\">body</span> in the regions of the feet; the upper thighs, particularly on the <span style=\"background-color: yellow;\">right</span> side; the lower back, particularly on the <span style=\"background-color: yellow;\">right</span> side; the <span style=\"background-color: yellow;\">right</span> arm; and the neck. The scalp is covered by long (16 <span style=\"background-color: yellow;\">inches</span>) brown hair. The <span style=\"background-color: yellow;\">body</span> hair is <span style=\"background-color: yellow;\">female</span> and average. The skull is symmetric and evidences extensive trauma in the occipital region. The eyes are open and the irises are blue. Pupils are asymmetrically dilated. The teeth are natural and well maintained. The anterior chest is of <span style=\"background-color: yellow;\">normal</span> contour and is <span style=\"background-color: yellow;\">intact</span>. The breasts are <span style=\"background-color: yellow;\">female</span> and contain no palpable masses. The abdomen is flat and the pelvis is <span style=\"background-color: yellow;\">intact</span>. The external genitalia are <span style=\"background-color: yellow;\">female</span> and unremarkable. The back is symmetrical and <span style=\"background-color: yellow;\">intact</span>. The upper and lower extremities are symmetric, normally developed and <span style=\"background-color: yellow;\">intact</span>. The hands and nails are clean and evidence no <span style=\"background-color: yellow;\">injury</span>. There are no residual scars, markings or tattoos. INTERNAL <span style=\"background-color: yellow;\">EXAMINATION</span> - <span style=\"background-color: yellow;\">SUMMARY</span> CENTRAL NERVOUS SYSTEM: The brain weighs 1,303 <span style=\"background-color: yellow;\">grams</span> and is within <span style=\"background-color: yellow;\">normal</span> limits. SKELETAL SYSTEM: Subdural hematoma and comminuted <span style=\"background-color: yellow;\">fractures</span> of the occipital <span style=\"background-color: yellow;\">bone</span> are observed. Numerous <span style=\"background-color: yellow;\">bone</span> fragments from the <span style=\"background-color: yellow;\">fractures</span> penetrated the brain tissue. RESPIRATORY SYSTEM--THROAT STRUCTURES: The oral cavity shows no <span style=\"background-color: yellow;\">lesions</span>. The <span style=\"background-color: yellow;\">mucosa</span> is <span style=\"background-color: yellow;\">intact</span> and there are no <span style=\"background-color: yellow;\">injuries</span> to the lips, teeth or gums. There is no obstruction of the airway. The <span style=\"background-color: yellow;\">mucosa</span> of the epiglottis, glottis, piriform sinuses, trachea and major bronchi are anatomic. No <span style=\"background-color: yellow;\">injuries</span> are seen and there are no mucosal <span style=\"background-color: yellow;\">lesions</span>. The lungs weigh: <span style=\"background-color: yellow;\">right</span>, 355 <span style=\"background-color: yellow;\">grams</span>; left 362 <span style=\"background-color: yellow;\">grams</span>. The lungs are unremarkable. CARDIOVASCULAR SYSTEM: The heart weighs 253 <span style=\"background-color: yellow;\">grams</span>, and has a <span style=\"background-color: yellow;\">normal</span> size and configuration. No evidence of atherosclerosis is present. GASTROINTESTINAL SYSTEM: The <span style=\"background-color: yellow;\">mucosa</span> and wall of the esophagus are <span style=\"background-color: yellow;\">intact</span> and gray-pink, without <span style=\"background-color: yellow;\">lesions</span> or <span style=\"background-color: yellow;\">injuries</span>. The gastric <span style=\"background-color: yellow;\">mucosa</span> is <span style=\"background-color: yellow;\">intact</span> and pink without <span style=\"background-color: yellow;\">injury</span>. Approximately 125 ml of partially digested semisolid food is found in the stomach. The <span style=\"background-color: yellow;\">mucosa</span> of the duodenum, jejunum, ileum, colon and rectum are <span style=\"background-color: yellow;\">intact</span>. URINARY SYSTEM: The kidneys weigh: left, 115 <span style=\"background-color: yellow;\">grams</span>; <span style=\"background-color: yellow;\">right</span>, 113 <span style=\"background-color: yellow;\">grams</span>. The kidneys are anatomic in size, shape and location and are without <span style=\"background-color: yellow;\">lesions</span>. <span style=\"background-color: yellow;\">FEMALE</span> GENITAL SYSTEM: The structures are within <span style=\"background-color: yellow;\">normal</span> limits. <span style=\"background-color: yellow;\">Examination</span> of the pelvic area indicates the victim had not given birth and was not pregnant at the <span style=\"background-color: yellow;\">time</span> of death. Vaginal fluid samples are removed for analysis. DESCRIPTION OF <span style=\"background-color: yellow;\">INJURIES</span> - <span style=\"background-color: yellow;\">SUMMARY</span> Blunt force traumatic <span style=\"background-color: yellow;\">injury</span> with multiple cranial <span style=\"background-color: yellow;\">fractures</span> resulting in craniocerebral <span style=\"background-color: yellow;\">injury</span>. Wound measures approximately 4 <span style=\"background-color: yellow;\">inches</span> high x 5 1/2 <span style=\"background-color: yellow;\">inches</span> wide. Subdural hematoma and comminuted <span style=\"background-color: yellow;\">fractures</span> of the occipital <span style=\"background-color: yellow;\">bone</span> are observed. Numerous <span style=\"background-color: yellow;\">bone</span> fragments from the <span style=\"background-color: yellow;\">fractures</span> penetrated the brain tissue. Depths of penetration range from 1/2-inch to 3 <span style=\"background-color: yellow;\">inches</span>. <span style=\"background-color: yellow;\">Injury</span> appears to have resulted from a single blow administered to the posterior of the head, delivered at an approximate 90º angle to the occipital <span style=\"background-color: yellow;\">bone</span>. LABORATORY DATA CEREBROSPINAL FLUID CULTURE AND SENSITIVITY: Gram stain: Unremarkable Culture: No growth after 72 hours CEREBROSPINAL FLUID BACTERIAL ANTIGENS: Hemophilus influenza B: <span style=\"background-color: yellow;\">Negative</span> Streptococcus pneumoniae: <span style=\"background-color: yellow;\">Negative</span> N. Meningitidis: <span style=\"background-color: yellow;\">Negative</span> Neiserria meningitidis B/E. Coli K1: <span style=\"background-color: yellow;\">Negative</span> PRELIMINARY TOXICOLOGICAL RESULTS: <span style=\"background-color: yellow;\">BLOOD</span> - ETHANOL - NEG <span style=\"background-color: yellow;\">BLOOD</span> - CANNABINOIDS-ETS - <span style=\"background-color: yellow;\">INC</span> <span style=\"background-color: yellow;\">BLOOD</span> - COCAINE-ETS - <span style=\"background-color: yellow;\">INC</span> <span style=\"background-color: yellow;\">BLOOD</span> - OPIATES-ETS - <span style=\"background-color: yellow;\">INC</span> <span style=\"background-color: yellow;\">BLOOD</span> - AMPHETAMINE-ETS - <span style=\"background-color: yellow;\">INC</span> <span style=\"background-color: yellow;\">BLOOD</span> - BARBITURATE -ETS - <span style=\"background-color: yellow;\">INC</span> <span style=\"background-color: yellow;\">BLOOD</span> - BENZODIAZEPINE-ETS - <span style=\"background-color: yellow;\">INC</span> <span style=\"background-color: yellow;\">BLOOD</span> - METHADONE-ETS - <span style=\"background-color: yellow;\">INC</span> <span style=\"background-color: yellow;\">BLOOD</span> - PCP-ETS - <span style=\"background-color: yellow;\">INC</span> <span style=\"background-color: yellow;\">BLOOD</span> - CARBON MONOXIDE - NEG Urine Drugs: Initial test results inconclusive. Further tests pending. EVIDENCE COLLECTED 1. Samples of <span style=\"background-color: yellow;\">Blood</span> (type O+), Urine, Bile, and Tissue (heart, lung, brain, kidney, liver, spleen). 2. Thirteen autopsy photographs. 3. Two postmortem x-rays. Clothing transferred to ABC Lab for further analysis. OPINION: <span style=\"background-color: yellow;\">TIME</span> OF DEATH: <span style=\"background-color: yellow;\">Body</span> temperature, rigor and livor mortis, stomach contents and witness statements approximate the <span style=\"background-color: yellow;\">time</span> of death between 9:30 p.m. on 9/17/05 and 12:00 a.m. on 9/18/05. CAUSE OF DEATH: Blunt force cranial trauma. MANNER OF DEATH: Homicide "
      ],
      "text/plain": [
       "<IPython.core.display.HTML object>"
      ]
     },
     "metadata": {},
     "output_type": "display_data"
    },
    {
     "name": "stdout",
     "output_type": "stream",
     "text": [
      "\n",
      "\n",
      "\n"
     ]
    },
    {
     "data": {
      "text/html": [
       "\"CLOTHING: The <span style=\"background-color: yellow;\">body</span> is clad in a light green hospital gown, which is <span style=\"background-color: yellow;\">intact</span>, dry and clean. There is no jewelry <span style=\"background-color: yellow;\">present</span>. EXTERNAL EXAMINATION: The <span style=\"background-color: yellow;\">body</span> is that of a well-developed, well-nourished white woman appearing the offered age of 39 years. The <span style=\"background-color: yellow;\">body</span> measures 71 <span style=\"background-color: yellow;\">inches</span> and weighs 178 pounds. The unembalmed <span style=\"background-color: yellow;\">body</span> is well preserved and cool to touch due to refrigeration. Rigor mortis is fully developed in the major muscle groups. Livor mortis is fixed and purple posteriorly except over pressure points. However, during initial examination in the emergency room, there was no rigor and lividity was at a minimum and unfixed. The skin is <span style=\"background-color: yellow;\">intact</span> and shows no <span style=\"background-color: yellow;\">evidence</span> of trauma except for medical intervention. The scalp hair is blond and measures up to 5 <span style=\"background-color: yellow;\">inches</span> in length in the frontal area and up to 19 <span style=\"background-color: yellow;\">inches</span> in length in the back and on top of the head. There are multiple blonde hair extensions including several pink strands attached to the natural hair, which shows light brown roots. The irides are hazel and the pupils are equal, each measuring 0.5 centimeter in <span style=\"background-color: yellow;\">diameter</span>. The corneae are clear and the sclerae and conjunctivae are free of petechiae. The nasal bones are <span style=\"background-color: yellow;\">intact</span> by palpation. The nares are patent and contain no foreign matter. There is a 3-millimeter raised nodule on the <span style=\"background-color: yellow;\">right</span> side of the nose. The natural teeth are in good condition. The frenula are <span style=\"background-color: yellow;\">intact</span>. The oral mucosa and tongue are free of <span style=\"background-color: yellow;\">injuries</span>. The external ears have no <span style=\"background-color: yellow;\">injuries</span>. There are bilateral earlobe piercings; no earring or jewelry were <span style=\"background-color: yellow;\">present</span>. There are no earlobe creases. The <span style=\"background-color: yellow;\">neck</span> is <span style=\"background-color: yellow;\">symmetrical</span> and shows no masses or <span style=\"background-color: yellow;\">injuries</span>. The trachea is in the midline. The shoulders are <span style=\"background-color: yellow;\">symmetrical</span> and are free of <span style=\"background-color: yellow;\">scars</span>. The chest is <span style=\"background-color: yellow;\">symmetrical</span> and shows no <span style=\"background-color: yellow;\">evidence</span> of injury. There were bilateral breasts with asymmetry of the <span style=\"background-color: yellow;\">left</span> <span style=\"background-color: yellow;\">breast</span> due to scarring. The <span style=\"background-color: yellow;\">flat</span> abdomen has no <span style=\"background-color: yellow;\">injuries</span>. There are piercings above and below the umbilicus. The back is <span style=\"background-color: yellow;\">symmetrical</span>. The buttocks have inconspicuous small <span style=\"background-color: yellow;\">scars</span>, bilaterally. There is a <span style=\"background-color: yellow;\">flat</span>, round <span style=\"background-color: yellow;\">scar</span> on the lower aspect of the <span style=\"background-color: yellow;\">left</span> buttock approximately 1/2 <span style=\"background-color: yellow;\">inch</span> in <span style=\"background-color: yellow;\">diameter</span>. The genitalia are those of a normally developed adult woman. There is no <span style=\"background-color: yellow;\">evidence</span> of injury. The anus is unremarkable. The upper extremities are <span style=\"background-color: yellow;\">symmetrical</span> and have no <span style=\"background-color: yellow;\">injuries</span>. The fingernails are long and clean. There is a linear 1/2 <span style=\"background-color: yellow;\">inch</span> <span style=\"background-color: yellow;\">scar</span> on the <span style=\"background-color: yellow;\">anterior</span> <span style=\"background-color: yellow;\">right</span> forearm. <span style=\"background-color: yellow;\">Two</span> parallel linear <span style=\"background-color: yellow;\">scars</span> measuring 1 <span style=\"background-color: yellow;\">inch</span> and 2 <span style=\"background-color: yellow;\">inches</span> are on the <span style=\"background-color: yellow;\">anterior</span> surface of the <span style=\"background-color: yellow;\">left</span> forearm. The lower extremities are <span style=\"background-color: yellow;\">symmetrical</span>. The toenails are short and clean. There is no edema of the legs or ankles. There is no abnormal motion of the <span style=\"background-color: yellow;\">neck</span>, the shoulders, the elbows, the wrists, the fingers, the hips and ankles. There is no bony crepitus or cutaneous crepitus <span style=\"background-color: yellow;\">present</span>. <span style=\"background-color: yellow;\">EVIDENCE</span> OF INJURY: A dissection of the posterior <span style=\"background-color: yellow;\">neck</span> and upper back show a 2-1/4 x 2-3/4 <span style=\"background-color: yellow;\">inch</span> reddish, <span style=\"background-color: yellow;\">recent</span> contusion of the subcutaneous and superficial muscle layer of the <span style=\"background-color: yellow;\">left</span> posterior shoulder. A <span style=\"background-color: yellow;\">recent</span>, reddish, 1-3/4 x 1-1/2 <span style=\"background-color: yellow;\">inch</span> reddish contusion is <span style=\"background-color: yellow;\">present</span> on the <span style=\"background-color: yellow;\">right</span> posterior shoulder involving the superficial muscular layer. <span style=\"background-color: yellow;\">EVIDENCE</span> OF <span style=\"background-color: yellow;\">RECENT</span> MEDICAL TREATMENT: A properly positioned size 8 endotracheal tube retained by a Thomas clamp is <span style=\"background-color: yellow;\">present</span> at the mouth with the marker 22 at the <span style=\"background-color: yellow;\">anterior</span> teeth. Electrocardiogram pads are on the <span style=\"background-color: yellow;\">anterior</span> chest in the following order: <span style=\"background-color: yellow;\">two</span> on the <span style=\"background-color: yellow;\">right</span> <span style=\"background-color: yellow;\">anterior</span> shoulder, <span style=\"background-color: yellow;\">two</span> on the <span style=\"background-color: yellow;\">left</span> <span style=\"background-color: yellow;\">anterior</span> shoulder, <span style=\"background-color: yellow;\">one</span> on the upper <span style=\"background-color: yellow;\">anterior</span> <span style=\"background-color: yellow;\">left</span> arm, <span style=\"background-color: yellow;\">one</span> each on the <span style=\"background-color: yellow;\">anterior</span> side, <span style=\"background-color: yellow;\">one</span> each on the <span style=\"background-color: yellow;\">anterior</span> leg. <span style=\"background-color: yellow;\">Two</span> defibrillator pads are <span style=\"background-color: yellow;\">present</span>: <span style=\"background-color: yellow;\">one</span> to the <span style=\"background-color: yellow;\">right</span> of the midline, above the <span style=\"background-color: yellow;\">right</span> <span style=\"background-color: yellow;\">breast</span>, and <span style=\"background-color: yellow;\">one</span> to the <span style=\"background-color: yellow;\">left</span> of the midline, below the <span style=\"background-color: yellow;\">left</span> <span style=\"background-color: yellow;\">breast</span>. There is intravenous line placement at the <span style=\"background-color: yellow;\">right</span> <span style=\"background-color: yellow;\">anterior</span> <span style=\"background-color: yellow;\">neck</span> with hemorrhage into the <span style=\"background-color: yellow;\">anterior</span> strap muscles of the <span style=\"background-color: yellow;\">neck</span>. <span style=\"background-color: yellow;\">One</span> <span style=\"background-color: yellow;\">recent</span> needle puncture mark is in the <span style=\"background-color: yellow;\">right</span> antecubital fossa and <span style=\"background-color: yellow;\">two</span> <span style=\"background-color: yellow;\">recent</span> needle puncture marks are at the <span style=\"background-color: yellow;\">anterior</span> <span style=\"background-color: yellow;\">left</span> elbow with surrounding ecchymoses. There is <span style=\"background-color: yellow;\">one</span> <span style=\"background-color: yellow;\">recent</span> needle puncture into the medial <span style=\"background-color: yellow;\">one</span>-third of the <span style=\"background-color: yellow;\">left</span> <span style=\"background-color: yellow;\">anterior</span> forearm with surrounding ecchymosis. A <span style=\"background-color: yellow;\">recent</span> needle puncture mark is at the <span style=\"background-color: yellow;\">left</span> <span style=\"background-color: yellow;\">anterior</span> wrist with surrounding reddish ecchymosis, 1 <span style=\"background-color: yellow;\">inch</span> in <span style=\"background-color: yellow;\">diameter</span>. OTHER IDENTIFYING FEATURES: There are multiple <span style=\"background-color: yellow;\">scars</span> and tattoos on the <span style=\"background-color: yellow;\">body</span>. <span style=\"background-color: yellow;\">SCARS</span>: A 3/4 x 1/2 <span style=\"background-color: yellow;\">inch</span> <span style=\"background-color: yellow;\">flat</span> <span style=\"background-color: yellow;\">scar</span> is on the upper inner aspect of the <span style=\"background-color: yellow;\">right</span> <span style=\"background-color: yellow;\">breast</span> quadrant. A 1/2 x 3/8-<span style=\"background-color: yellow;\">inch</span> <span style=\"background-color: yellow;\">scar</span> is on the medial aspect of the <span style=\"background-color: yellow;\">left</span> nipple. There are circular <span style=\"background-color: yellow;\">scars</span> adjacent to both areolae. The <span style=\"background-color: yellow;\">right</span> inframammary skin has a linear transverse 3/4 <span style=\"background-color: yellow;\">inch</span> remote \"\"chest tube\"\" <span style=\"background-color: yellow;\">scar</span>. There were bilateral inframammary and transverse linear 3-3/4 <span style=\"background-color: yellow;\">inch</span> <span style=\"background-color: yellow;\">scars</span> compatible with <span style=\"background-color: yellow;\">left</span> and <span style=\"background-color: yellow;\">right</span> mammoplasty with <span style=\"background-color: yellow;\">breast</span> implants. There are circular <span style=\"background-color: yellow;\">scars</span> surrounding piercings above and below the umbilicus. A <span style=\"background-color: yellow;\">flat</span> 3/8 <span style=\"background-color: yellow;\">inch</span> in <span style=\"background-color: yellow;\">diameter</span> <span style=\"background-color: yellow;\">scar</span> is <span style=\"background-color: yellow;\">present</span> on the middle third of the <span style=\"background-color: yellow;\">anterior</span> surface of the <span style=\"background-color: yellow;\">right</span> thigh. Lateral to this <span style=\"background-color: yellow;\">scar</span> is a 1/2 <span style=\"background-color: yellow;\">inch</span> in <span style=\"background-color: yellow;\">diameter</span> <span style=\"background-color: yellow;\">flat</span> <span style=\"background-color: yellow;\">scar</span>. There are several scattered small inconspicuous <span style=\"background-color: yellow;\">scars</span> on both buttocks. There is a cluster of multiple"
      ],
      "text/plain": [
       "<IPython.core.display.HTML object>"
      ]
     },
     "metadata": {},
     "output_type": "display_data"
    },
    {
     "name": "stdout",
     "output_type": "stream",
     "text": [
      "\n",
      "\n",
      "\n"
     ]
    },
    {
     "data": {
      "text/html": [
       "\"EXTERNAL EXAMINATION: The <span style=\"background-color: yellow;\">autopsy</span> is <span style=\"background-color: yellow;\">begun</span> at 8:30 A.M. on <span style=\"background-color: yellow;\">May</span> 24, 2004. The <span style=\"background-color: yellow;\">body</span> is <span style=\"background-color: yellow;\">presented</span> in a <span style=\"background-color: yellow;\">black</span> <span style=\"background-color: yellow;\">body</span> <span style=\"background-color: yellow;\">bag</span>. The victim is <span style=\"background-color: yellow;\">wearing</span> a <span style=\"background-color: yellow;\">white</span> sleeveless turtleneck <span style=\"background-color: yellow;\">shirt</span> and navy blue sweatpants. Jewelry included two smooth-textured <span style=\"background-color: yellow;\">silver</span> hoop pierced earrings, 1-inch diameter, <span style=\"background-color: yellow;\">one</span> in each ear, and <span style=\"background-color: yellow;\">one</span> 1-inch <span style=\"background-color: yellow;\">wide</span> <span style=\"background-color: yellow;\">silver</span> expandable wristband on left wrist. A 1.5-inch <span style=\"background-color: yellow;\">wide</span> tan <span style=\"background-color: yellow;\">belt</span> with green stripes is cinched around the upper <span style=\"background-color: yellow;\">neck</span> using the buckle. The opposite end of the <span style=\"background-color: yellow;\">belt</span> is tied in a half-hitch knot, which was used to affix it to the crossbar in the closet where the <span style=\"background-color: yellow;\">body</span> was found. The <span style=\"background-color: yellow;\">body</span> is that of a normally developed <span style=\"background-color: yellow;\">white</span> female measuring 67 <span style=\"background-color: yellow;\">inches</span> and weighing 118 pounds, and appearing generally consistent with the stated age of twenty-six years. The <span style=\"background-color: yellow;\">body</span> is cold and unembalmed. Lividity is fixed in the distal portions of the limbs. The <span style=\"background-color: yellow;\">eyes</span> are open. The irises are brown and corneas are cloudy. Petechial hemorrhaging is present in the conjunctival surfaces of the <span style=\"background-color: yellow;\">eyes</span>. The pupils measure 0.3 cm. The hair is dark <span style=\"background-color: yellow;\">blonde</span> with lighter <span style=\"background-color: yellow;\">blonde</span> highlights, wavy, layered and <span style=\"background-color: yellow;\">approximately</span> 11 <span style=\"background-color: yellow;\">inches</span> in length at the longest point. Removal of the <span style=\"background-color: yellow;\">belt</span> revealed a <span style=\"background-color: yellow;\">ligature</span> mark (known throughout this report as <span style=\"background-color: yellow;\">Ligature</span> A) on the <span style=\"background-color: yellow;\">neck</span> below the mandible. <span style=\"background-color: yellow;\">Ligature</span> A is <span style=\"background-color: yellow;\">approximately</span> 1.5 <span style=\"background-color: yellow;\">inches</span> <span style=\"background-color: yellow;\">wide</span> and encircles the <span style=\"background-color: yellow;\">neck</span> in the form of a \"\"V\"\" on the anterior of the <span style=\"background-color: yellow;\">neck</span> and an inverted \"\"V\"\" on the posterior of the <span style=\"background-color: yellow;\">neck</span>"
      ],
      "text/plain": [
       "<IPython.core.display.HTML object>"
      ]
     },
     "metadata": {},
     "output_type": "display_data"
    },
    {
     "name": "stdout",
     "output_type": "stream",
     "text": [
      "\n",
      "\n",
      "\n"
     ]
    },
    {
     "data": {
      "text/html": [
       "FINAL DIAGNOSIS: I. <span style=\"background-color: yellow;\">Ligature</span> strangulation. A. Circumferential <span style=\"background-color: yellow;\">ligature</span> with associated <span style=\"background-color: yellow;\">ligature</span> furrow of <span style=\"background-color: yellow;\">neck</span>. B. Abrasions and <span style=\"background-color: yellow;\">petechial</span> <span style=\"background-color: yellow;\">hemorrhages</span>, <span style=\"background-color: yellow;\">neck</span>. C. <span style=\"background-color: yellow;\">Petechial</span> <span style=\"background-color: yellow;\">hemorrhages</span>, conjunctival surfaces of eyes and skin of face. II. Craniocerebral injuries. A. Scalp contusion. B. Linear, comminuted fracture of <span style=\"background-color: yellow;\">right</span> side of skull. C. Linear pattern of contusions of <span style=\"background-color: yellow;\">right</span> cerebral hemisphere. D. subarachnoid and subdural <span style=\"background-color: yellow;\">hemorrhage</span>. E. <span style=\"background-color: yellow;\">Small</span> contusions, tips of temporal lobes. III. <span style=\"background-color: yellow;\">Abrasion</span> of <span style=\"background-color: yellow;\">right</span> cheek. IV. <span style=\"background-color: yellow;\">Abrasion</span>/contusion, posterior <span style=\"background-color: yellow;\">right</span> shoulder. V. Abrasions of <span style=\"background-color: yellow;\">left</span> lower back and posterior <span style=\"background-color: yellow;\">left</span> lower leg. VI. <span style=\"background-color: yellow;\">Abrasion</span> and vancular congestion of vaginal mucosa. VII. <span style=\"background-color: yellow;\">Ligature</span> of <span style=\"background-color: yellow;\">right</span> wrist. TOXICOLOGIC STUDIES Blood ethanol - none detected. Blood drug screen - no drugs detected. CLINOCOPATHOLIGICAL CORRELATION: Cause of death of this six year old female is asphyxia by strangulation associated with craniocerebral trauma. The body of this six year old female was first <span style=\"background-color: yellow;\">seen</span> by me after I was called to an address XYZ, on 12/26/96. I arrived at the scene <span style=\"background-color: yellow;\">approximately</span> 8 PM on 12/26 and entered the house where the decedent's body was located at <span style=\"background-color: yellow;\">approximately</span> 8:20 PM. A brief examination of the body disclosed a <span style=\"background-color: yellow;\">ligature</span> around the <span style=\"background-color: yellow;\">neck</span> and a <span style=\"background-color: yellow;\">ligature</span> around the <span style=\"background-color: yellow;\">right</span> wrist. Also noted was a <span style=\"background-color: yellow;\">small</span> <span style=\"background-color: yellow;\">area</span> of <span style=\"background-color: yellow;\">abrasion</span> or contusion below the <span style=\"background-color: yellow;\">right</span> ear on the lateral aspect of the <span style=\"background-color: yellow;\">right</span> cheek. A prominent dried <span style=\"background-color: yellow;\">abrasion</span> was <span style=\"background-color: yellow;\">present</span> on the lower <span style=\"background-color: yellow;\">left</span> <span style=\"background-color: yellow;\">neck</span>. After examining the body, I <span style=\"background-color: yellow;\">left</span> the residence at <span style=\"background-color: yellow;\">approximately</span> 8:30 PM. EXTERNAL EVIDENCE OF INJURY: Located just below the <span style=\"background-color: yellow;\">right</span> ear at the <span style=\"background-color: yellow;\">right</span> angle of the mandible, 1.5 <span style=\"background-color: yellow;\">inches</span> below the <span style=\"background-color: yellow;\">right</span> external auditory canal is a 3/8 x 1/4 <span style=\"background-color: yellow;\">inch</span> <span style=\"background-color: yellow;\">area</span> of rust colored <span style=\"background-color: yellow;\">abrasion</span>. In the lateral aspect of the <span style=\"background-color: yellow;\">left</span> lower eyelid on the inner conjunctival surface is a 1 mm in maximum dimension <span style=\"background-color: yellow;\">petechial</span> <span style=\"background-color: yellow;\">hemorrhage</span>. Very fine, less than 1 mm <span style=\"background-color: yellow;\">petechial</span> <span style=\"background-color: yellow;\">hemorrhages</span> are <span style=\"background-color: yellow;\">present</span> on the skin of the upper eyelids bilaterally as well as on the lateral <span style=\"background-color: yellow;\">left</span> cheek. On everything the <span style=\"background-color: yellow;\">left</span> upper eyelid there are much smaller, less than 1 mm <span style=\"background-color: yellow;\">petechial</span> <span style=\"background-color: yellow;\">hemorrhages</span> located on the conjunctival surface. Possible <span style=\"background-color: yellow;\">petechial</span> <span style=\"background-color: yellow;\">hemorrhages</span> are also <span style=\"background-color: yellow;\">seen</span> on the conjunctival surfaces of the <span style=\"background-color: yellow;\">right</span> upper and lower eyelids, but liver mortis on this side of the face makes definite identification difficult. A deep <span style=\"background-color: yellow;\">ligature</span> furrow encircles the entire <span style=\"background-color: yellow;\">neck</span>. The width of the furrow varies from one- eight of an <span style=\"background-color: yellow;\">inch</span> to five/sixteenths of an <span style=\"background-color: yellow;\">inch</span> and is horizontal in orientation, with little upward deviation. The skin of the <span style=\"background-color: yellow;\">anterior</span> <span style=\"background-color: yellow;\">neck</span> above and below the <span style=\"background-color: yellow;\">ligature</span> furrow <span style=\"background-color: yellow;\">contains</span> areas of <span style=\"background-color: yellow;\">petechial</span> <span style=\"background-color: yellow;\">hemorrhage</span> and <span style=\"background-color: yellow;\">abrasion</span> encompassing an <span style=\"background-color: yellow;\">area</span> measuring <span style=\"background-color: yellow;\">approximately</span> 3 x 2 <span style=\"background-color: yellow;\">inches</span>. The <span style=\"background-color: yellow;\">ligature</span> furrow crosses the <span style=\"background-color: yellow;\">anterior</span> midline of the <span style=\"background-color: yellow;\">neck</span> just below the laryngeal prominence, <span style=\"background-color: yellow;\">approximately</span> at the level of the cricoid cartilage. It is almost completely horizontal with slight upward deviation from the horizontal towards the back of the <span style=\"background-color: yellow;\">neck</span>. The midline of the furrow mark on the <span style=\"background-color: yellow;\">anterior</span> <span style=\"background-color: yellow;\">neck</span> is 8 <span style=\"background-color: yellow;\">inches</span> below the top of the head. The midline of the furrow mark on the posterior <span style=\"background-color: yellow;\">neck</span> is 6.75 <span style=\"background-color: yellow;\">inches</span> below the top of the head. The <span style=\"background-color: yellow;\">area</span> of <span style=\"background-color: yellow;\">abrasion</span> and <span style=\"background-color: yellow;\">petechial</span> <span style=\"background-color: yellow;\">hemorrhage</span> of the skin of the <span style=\"background-color: yellow;\">anterior</span> <span style=\"background-color: yellow;\">neck</span> includes on the lower <span style=\"background-color: yellow;\">left</span> <span style=\"background-color: yellow;\">neck</span>, just to the <span style=\"background-color: yellow;\">left</span> of the midline, a roughly triangular, parchment-like rust colored <span style=\"background-color: yellow;\">abrasion</span> which measures 1.5 <span style=\"background-color: yellow;\">inches</span> in length with a maximum width of 0.75 <span style=\"background-color: yellow;\">inches</span>. This roughly triangular shaped <span style=\"background-color: yellow;\">abrasion</span> is obliquely oriented with the apex superior and lateral. The remainder of the abrasions and <span style=\"background-color: yellow;\">petechial</span> <span style=\"background-color: yellow;\">hemorrhages</span> of the skin above and below the <span style=\"background-color: yellow;\">anterior</span> projection of the <span style=\"background-color: yellow;\">ligature</span> furrow are nonpatterned, purple to rust colored, and <span style=\"background-color: yellow;\">present</span> in the midline, <span style=\"background-color: yellow;\">right</span>, and <span style=\"background-color: yellow;\">left</span> areas of the <span style=\"background-color: yellow;\">anterior</span> <span style=\"background-color: yellow;\">neck</span>. The skin just above the <span style=\"background-color: yellow;\">ligature</span> furrow along the <span style=\"background-color: yellow;\">right</span> side of the <span style=\"background-color: yellow;\">neck</span> <span style=\"background-color: yellow;\">contains</span> <span style=\"background-color: yellow;\">petechial</span> <span style=\"background-color: yellow;\">hemorrhage</span> composed of multiple confluent very <span style=\"background-color: yellow;\">small</span> <span style=\"background-color: yellow;\">petechial</span> <span style=\"background-color: yellow;\">hemorrhages</span> as well as several larger <span style=\"background-color: yellow;\">petechial</span> <span style=\"background-color: yellow;\">hemorrhages</span> measuring up to one-sixteenth and one-eight of an <span style=\"background-color: yellow;\">inch</span> in maximum dimension. Similar smaller <span style=\"background-color: yellow;\">petechial</span> <span style=\"background-color: yellow;\">hemorrhages</span> are <span style=\"background-color: yellow;\">present</span> on the skin below the <span style=\"background-color: yellow;\">ligature</span> furrow on the <span style=\"background-color: yellow;\">left</span> lateral aspect of the <span style=\"background-color: yellow;\">neck</span>. Located on the <span style=\"background-color: yellow;\">right</span> side of the chin is a three-sixteenths by one-eight of an <span style=\"background-color: yellow;\">inch</span> <span style=\"background-color: yellow;\">area</span> of superficial <span style=\"background-color: yellow;\">abrasion</span>. On the posterior aspect of the <span style=\"background-color: yellow;\">right</span> shoulder is a poorly demarcated, very superficial focus of <span style=\"background-color: yellow;\">abrasion</span>/contusion which is pale purple in color and measures up to three-quarters by one-half <span style=\"background-color: yellow;\">inch</span> in maximum dimension. Several linear aggregates of <span style=\"background-color: yellow;\">petechial</span> <span style=\"background-color: yellow;\">hemorrhages</span> are <span style=\"background-color: yellow;\">present</span> in the <span style=\"background-color: yellow;\">anterior</span> <span style=\"background-color: yellow;\">left</span> shoulder just above deltopectoral groove. These measure up to one <span style=\"background-color: yellow;\">inch</span> in length by one-sixteenth to one-eight of an <span style=\"background-color: yellow;\">inch</span> in width. On the <span style=\"background-color: yellow;\">left</span> lateral aspect of the lower back, <span style=\"background-color: yellow;\">approximately</span> sixteen and one-quarter <span style=\"background-color: yellow;\">inches</span> and seventeen and one-half <span style=\"background-color: yellow;\">inches</span> below the level of the top of the head are two dried rust colored to slightly purple abrasions. The more superior of the two measures one-eight by one-sixteenth of an <span style=\"background-color: yellow;\">inch</span> and the more inferior measures three-sixteenths by one-eight of an <span style=\"background-color: yellow;\">inch</span>. There is no surrounding contusion <span style=\"background-color: yellow;\">identified</span>. On the posterior aspect of the <span style=\"background-color: yellow;\">left</span> lower leg, almost in the midline, <span style=\"background-color: yellow;\">approximately</span> 4 <span style=\"background-color: yellow;\">inches</span> above the level of the heel are two <span style=\"background-color: yellow;\">small</span> scratch-like abrasions which are dried and rust colored. They measure one-sixteenth by less than one- sixteenth of an <span style=\"background-color: yellow;\">inch</span> and one-eight by less than one-sixteenth of an <span style=\"background-color: yellow;\">inch</span> respectively. On the <span style=\"background-color: yellow;\">anterior</span> aspect of the perineum, along the edges of closure of the labia majora, is a <span style=\"background-color: yellow;\">small</span> amount of dried blood. A similar <span style=\"background-color: yellow;\">small</span> amount of dried and semifluid blood is <span style=\"background-color: yellow;\">present</span> on the skin of the fourchette and in the vestibule. Inside the vestibule of the vagina and along the distal vaginal wall is reddish hyperemia. This hyperemia is circumferential and perhaps more noticeable on the <span style=\"background-color: yellow;\">right</span> side and posteriorly. The hyperemia also appears to extend just inside the vaginal orifice. A 1 cm red-purple <span style=\"background-color: yellow;\">area</span> of <span style=\"background-color: yellow;\">abrasion</span> is located on the <span style=\"background-color: yellow;\">right</span> posterolateral <span style=\"background-color: yellow;\">area</span> of the 1 x 1 cm hymeneal orifice. The hymen itself is represented by a rim of mucosal tissue extending clockwise between the 2 and 10:00 positions. The <span style=\"background-color: yellow;\">area</span> of <span style=\"background-color: yellow;\">abrasion</span> is <span style=\"background-color: yellow;\">present</span> at <span style=\"background-color: yellow;\">approximately</span> the 7:00 position and appears to involve the hymen and distal <span style=\"background-color: yellow;\">right</span> lateral vaginal wall and possibly the <span style=\"background-color: yellow;\">area</span> <span style=\"background-color: yellow;\">anterior</span> to the hymen. On the <span style=\"background-color: yellow;\">right</span> labia majora is a very faint <span style=\"background-color: yellow;\">area</span> of violent discoloration measuring <span style=\"background-color: yellow;\">approximately</span> one <span style=\"background-color: yellow;\">inch</span> by three-eighths of an <span style=\"background-color: yellow;\">inch</span>. Incision into the underlying subcutaneous tissue discloses no <span style=\"background-color: yellow;\">hemorrhage</span>. A minimal amount of semiliquid thin watery red fluid is <span style=\"background-color: yellow;\">present</span> in the vaginal vault. No recent or remote anal or other perineal trauma is <span style=\"background-color: yellow;\">identified</span>. REMAINDER OF EXTERNAL EXAMINATION: The unembalmed, well developed and well nourished Caucasian female body measures 47 <span style=\"background-color: yellow;\">inches</span> in length and weighs an estimated 45 pounds. No scalp trauma is <span style=\"background-color: yellow;\">identified</span>. The external auditory canals are patent and free of blood. The eyes are green and the pupils equally dilated. The sclerae are white. The nostrils are both patent and contain a <span style=\"background-color: yellow;\">small</span> amount of tan mucous material. The teeth are native and in good repair. The tongue is smooth, pink-tan and granular. No buccal mucosal trauma is <span style=\"background-color: yellow;\">seen</span>. The frenulum is intact. There is slight drying artifact of the tip of the tongue. On the <span style=\"background-color: yellow;\">right</span> cheek is a pattern of dried saliva and mucous material which does not appear to be hemorrhagic. The <span style=\"background-color: yellow;\">neck</span> <span style=\"background-color: yellow;\">contains</span> no palpable adenopathy or masses and the trachea and larynx are midline. The chest is symmetrical. Breasts are prepubescent. The abdomen is flat and <span style=\"background-color: yellow;\">contains</span> no scars. No palpable organomegaly or masses are <span style=\"background-color: yellow;\">identified</span>. The external genitalia are that of a prepubescent female. No pubic hair is <span style=\"background-color: yellow;\">present</span>. The anus is patent. Examination of the extremities is <span style=\"background-color: yellow;\">unremarkable</span>. The fingernails of both hands are of sufficient length for clipping. Examination of the back is <span style=\"background-color: yellow;\">unremarkable</span>. There is dorsal 3+ to 4+ livor mortis which is nonblanching. Livor mortis is also <span style=\"background-color: yellow;\">present</span> on the <span style=\"background-color: yellow;\">right</span> side of the face. At the time of the initiation of the autopsy there is mild 1 to 2+ rigor mortis of the elbows and shoulders with more advanced 2 to 3+ rigor mortis of the joints of the lower extremities. INTERNAL EXAM: The <span style=\"background-color: yellow;\">anterior</span> chest musculature is well developed. No sternal or rib fractures are <span style=\"background-color: yellow;\">identified</span>. MEDIASTINUM: The mediastinal contents are normally distributed. The 21 gm thymus gland has a normal external appearance. The cut <span style=\"background-color: yellow;\">sections</span> are finely lobular and pink-tan. No <span style=\"background-color: yellow;\">petechial</span> <span style=\"background-color: yellow;\">hemorrhages</span> are <span style=\"background-color: yellow;\">seen</span>. The aorta and remainder of the mediastinal structures are <span style=\"background-color: yellow;\">unremarkable</span>. BODY CAVITIES: The <span style=\"background-color: yellow;\">right</span> and <span style=\"background-color: yellow;\">left</span> thoracic cavities contain <span style=\"background-color: yellow;\">approximately</span> 5 cc of straw colored fluid. The pleural surfaces are smooth and glistening. The pericardial sac <span style=\"background-color: yellow;\">contains</span> 3-4 cc of straw colored fluid and the epicardium and pericardium are <span style=\"background-color: yellow;\">unremarkable</span>. The abdominal contents are normally distributed and covered by a smooth glistening serosa. No intra-abdominal accumulation of fluid or blood is <span style=\"background-color: yellow;\">seen</span>. LUNGS: The 200 gm <span style=\"background-color: yellow;\">right</span> lung and 175 gm let lung have a normal lobar configuration. An occasional scattered subpleural <span style=\"background-color: yellow;\">petechial</span> <span style=\"background-color: yellow;\">hemorrhage</span> is <span style=\"background-color: yellow;\">seen</span> on the surface of each lung. The cut <span style=\"background-color: yellow;\">sections</span> of the lungs disclose an intact alveolar architecture with a <span style=\"background-color: yellow;\">small</span> amount of watery fluid exuding from the cut surfaces with mild pressure. The intrapulmonary bronchi and vasculature are <span style=\"background-color: yellow;\">unremarkable</span>. No evidence of consolidation is <span style=\"background-color: yellow;\">seen</span>. HEART: The 100 gm heart has a normal external configuration. There are scattered subepicardial <span style=\"background-color: yellow;\">petechial</span> <span style=\"background-color: yellow;\">hemorrhages</span> over the <span style=\"background-color: yellow;\">anterior</span> surface of the heart. The coronary arteries are normal in their distribution and contain no evidence of atherosclerosis. The tan- pink myocardium is homogeneous and <span style=\"background-color: yellow;\">contains</span> no areas of fibrosis or infarction. The endocardium is <span style=\"background-color: yellow;\">unremarkable</span>. The valve cusps are thin, delicate and pliable and contain no vegetation or thrombosis. The major vessels enter and leave the heart in the normal fashion. The foramen ovale is closed. AORTA AND VENA CAVA: The aorta is patent throughout its course as are its major branches. No atherosclerosis is <span style=\"background-color: yellow;\">seen</span>. The Vena Cava is <span style=\"background-color: yellow;\">unremarkable</span>. SPLEEN: The 61 gm spleen has a finely wrinkled purple capsule. Cut <span style=\"background-color: yellow;\">sections</span> are homogeneous and disclose readily identifiable red and white pulp. No intrinsic abnormalities are <span style=\"background-color: yellow;\">identified</span>. ADRENALS: The adrenal glands are of normal size and shape. A golden yellow cortex surmounts a thin brown-tan medullary <span style=\"background-color: yellow;\">area</span>. No intrinsic abnormalities are <span style=\"background-color: yellow;\">identified</span>. KIDNEYS: The 40 gm <span style=\"background-color: yellow;\">right</span> kidney and 40 gm <span style=\"background-color: yellow;\">left</span> kidney have a normal external appearance. The surfaces are smooth and glistening. Cut <span style=\"background-color: yellow;\">sections</span> disclose an intact corticomedullary architecture. The renal papilae are sharply demarcated. The pelvocaliceal system is lined by gray-white mucosa which is <span style=\"background-color: yellow;\">unremarkable</span>. Both ureters are patent throughout their course to the bladder. LIVER: The 625 gm liver has a normal external appearance. The capsule is smooth and glistening. Cut <span style=\"background-color: yellow;\">sections</span> disclose an intact lobular architecture with no intrinsic abnormalities <span style=\"background-color: yellow;\">identified</span>. PANCREAS: The pancreas is of normal size and shape. Cut <span style=\"background-color: yellow;\">sections</span> are finely lobular and tan. No intrinsic abnormalities are <span style=\"background-color: yellow;\">identified</span>. BLADDER: The bladder is contracted and <span style=\"background-color: yellow;\">contains</span> no urine. The bladder mucosa is smooth and tan-gray. No intrinsic abnormalities are <span style=\"background-color: yellow;\">seen</span>. GENITALIA: The upper portions of the vaginal vault contain no abnormalities. The prepubescent uterus measures 3 x 1 x 0.8 cm and is <span style=\"background-color: yellow;\">unremarkable</span>. The cervical os <span style=\"background-color: yellow;\">contains</span> no abnormalities. Both fallopian tubes and ovaries are prepubescent and <span style=\"background-color: yellow;\">unremarkable</span> by gross examination. GALLBLADDER: The gallbladder <span style=\"background-color: yellow;\">contains</span> 2-3 cc of amber bile. No stones are <span style=\"background-color: yellow;\">identified</span> and the mucosa is smooth and velvety. The cystic duct, <span style=\"background-color: yellow;\">right</span> and <span style=\"background-color: yellow;\">left</span> hepatic duct and common bile duct are patent throughout their course to the duodenum. G.I. TRACT: The esophagus is empty. It is lined by gray-white mucosa. The stomach <span style=\"background-color: yellow;\">contains</span> a <span style=\"background-color: yellow;\">small</span> amount (8-10 cc) of viscous to green to tan colored thick mucous material without particulate matter <span style=\"background-color: yellow;\">identified</span>. The gastric mucosa is autolyzed but <span style=\"background-color: yellow;\">contains</span> no areas of <span style=\"background-color: yellow;\">hemorrhage</span> or ulceration. The proximal portion of the <span style=\"background-color: yellow;\">small</span> intestine <span style=\"background-color: yellow;\">contains</span> fragmented pieces of yellow to light green-tan apparent vegetable or fruit material which may represent fragments of pineapple. No <span style=\"background-color: yellow;\">hemorrhage</span> is <span style=\"background-color: yellow;\">identified</span>. The remainder of the <span style=\"background-color: yellow;\">small</span> intestine is <span style=\"background-color: yellow;\">unremarkable</span>. The large intestine <span style=\"background-color: yellow;\">contains</span> soft green fecal material. The appendix is <span style=\"background-color: yellow;\">present</span>. LYMPHATIC SYSTEM: <span style=\"background-color: yellow;\">Unremarkable</span>. MUSCULOSKELETAL SYSTEM: <span style=\"background-color: yellow;\">Unremarkable</span>. SKULL AND BRAIN: Upon reflection of the scalp there is found to be an extensive <span style=\"background-color: yellow;\">area</span> of scalp <span style=\"background-color: yellow;\">hemorrhage</span> along the <span style=\"background-color: yellow;\">right</span> temporoparietal <span style=\"background-color: yellow;\">area</span> extending from the orbital ridge, posteriorly all the way to the occipital <span style=\"background-color: yellow;\">area</span>. This encompasses an <span style=\"background-color: yellow;\">area</span> measuring <span style=\"background-color: yellow;\">approximately</span> 7 x 4 <span style=\"background-color: yellow;\">inches</span>. This grossly appears to be fresh <span style=\"background-color: yellow;\">hemorrhage</span> with no evidence of organization. At the superior extension of this <span style=\"background-color: yellow;\">area</span> of <span style=\"background-color: yellow;\">hemorrhage</span> is a linear to comminuted skull fracture which extends from the <span style=\"background-color: yellow;\">right</span> occipital to posteroparietal <span style=\"background-color: yellow;\">area</span> forward to the <span style=\"background-color: yellow;\">right</span> frontal <span style=\"background-color: yellow;\">area</span> across the parietal portion of the skull. the posteroparietal <span style=\"background-color: yellow;\">area</span> of this fracture is a roughly rectangular shaped displaced fragment of skull measuring one and three-quarters by one-half <span style=\"background-color: yellow;\">inch</span>. The <span style=\"background-color: yellow;\">hemorrhage</span> and the fracture extend posteriorly just past the midline of the occipital <span style=\"background-color: yellow;\">area</span> of the skull. This fracture measures <span style=\"background-color: yellow;\">approximately</span> 8.5 <span style=\"background-color: yellow;\">inches</span> in length. On removal of the skull cap there is found to be a thin film of subdural <span style=\"background-color: yellow;\">hemorrhage</span> measuring <span style=\"background-color: yellow;\">approximately</span> 7-8 cc over the surface of the <span style=\"background-color: yellow;\">right</span> cerebral hemisphere and extending to the base of the cerebral hemisphere. The 1450 gm brain has a normal overall architecture. Mild narrowing of the sulci and flattening of the gyri are <span style=\"background-color: yellow;\">seen</span>. No inflammation is <span style=\"background-color: yellow;\">identified</span>. There is a thin film of subarachnoid <span style=\"background-color: yellow;\">hemorrhage</span> overlying the entire <span style=\"background-color: yellow;\">right</span> cerebral hemisphere. On the <span style=\"background-color: yellow;\">right</span> cerebral hemisphere underlying the previously mentioned linear skull fracture is an extensive linear <span style=\"background-color: yellow;\">area</span> of purple contusion extending from the <span style=\"background-color: yellow;\">right</span> frontal <span style=\"background-color: yellow;\">area</span>, posteriorly along the lateral aspect of the parietal region and into the occipital <span style=\"background-color: yellow;\">area</span>. This <span style=\"background-color: yellow;\">area</span> of contusion measures 8 <span style=\"background-color: yellow;\">inches</span> in length with a width of up to 1.75 <span style=\"background-color: yellow;\">inches</span>. At the tip of the <span style=\"background-color: yellow;\">right</span> temporal lobe is a one-quarter by one quarter <span style=\"background-color: yellow;\">inch</span> similar appearing purple contusion. Only very minimal contusion is <span style=\"background-color: yellow;\">present</span> at the tip of the <span style=\"background-color: yellow;\">left</span> temporal lobe. This <span style=\"background-color: yellow;\">area</span> of contusion measures only one-half <span style=\"background-color: yellow;\">inch</span> in maximum dimension. The cerebral vasculature <span style=\"background-color: yellow;\">contains</span> no evidence of atherosclerosis. Multiple coronal <span style=\"background-color: yellow;\">sections</span> of the cerebral hemispheres, brain stem and cerebullum disclose no additional abnormalities. The areas of previously described contusion are characterized by purple linear streak-like discolorations of the gray matter perpendicular to the surface of the cerebral cortex. These extend <span style=\"background-color: yellow;\">approximately</span> 6 mm into the cerebral cortex. Examination of the base of the brain discloses no additional fractures. <span style=\"background-color: yellow;\">NECK</span>: Dissection of the <span style=\"background-color: yellow;\">neck</span> is performed after removal of the thoracoabdominal organs and the brain. The <span style=\"background-color: yellow;\">anterior</span> strap musculature of the <span style=\"background-color: yellow;\">neck</span> is serially dissected. Multiple <span style=\"background-color: yellow;\">sections</span> of the sternocleidomastoid muscle disclose no <span style=\"background-color: yellow;\">hemorrhages</span>. <span style=\"background-color: yellow;\">Sections</span> of the remainder of the strap musculature of the <span style=\"background-color: yellow;\">neck</span> disclose no evidence of <span style=\"background-color: yellow;\">hemorrhage</span>. Examination of the thyroid cartilage, cricoid cartilage and hyoid bone disclose not evidence of fracture of <span style=\"background-color: yellow;\">hemorrhage</span>. Multiple cross <span style=\"background-color: yellow;\">sections</span> of the tongue disclose no <span style=\"background-color: yellow;\">hemorrhage</span> or traumatic injury. The thyroid gland weights 2 gm and is normal in appearance. Cut <span style=\"background-color: yellow;\">sections</span> are finely lobular and red-tan. The trachea and larynx are lined by smooth pink-tan mucosa without intrinsic abnormalities. MICROSCOPIC DESCRIPTION: (All <span style=\"background-color: yellow;\">Sections</span> Stained with H&E) (Slide Key) - (A) - scalp <span style=\"background-color: yellow;\">hemorrhage</span>, (B) - <span style=\"background-color: yellow;\">sections</span> of vaginal mucosa with smallest fragment representing <span style=\"background-color: yellow;\">area</span> of <span style=\"background-color: yellow;\">abrasion</span> of 7:00 position, (C) - heart, (D-F) - lungs, (G) - liver and spleen, (H) - pancreas and kidney, (I) - thyroid and bladder, (J) - thymus and adrenals, (K-L) - reproductive organs, (M) - larynx, (N-T) - brain. MYOCARDIUM: <span style=\"background-color: yellow;\">Sections</span> of the ventricular myocardium are composed of interlacing bundles of cardiac muscle fibers. No fibrosis or inflammation are <span style=\"background-color: yellow;\">identified</span>. LUNGS: The alveolar architecture of the lungs is well preserved. Pulmonary vascular congestion is <span style=\"background-color: yellow;\">identified</span>. No intrinsic abnormalities are <span style=\"background-color: yellow;\">seen</span>. SPLEEN: There is mild autolysis of the spleen. Both red and white pulp are identifiable. THYROID: The thyroid gland is composed of normal-appearing follicles. An occasional isolated <span style=\"background-color: yellow;\">area</span> of chronic interstitial inflammatory infiltrate is <span style=\"background-color: yellow;\">seen</span>. There is also a <span style=\"background-color: yellow;\">small</span> fragment of parathyroid tissue. THYMUS: The thymus gland retains the usual architecture. The lymphoid material is intact and scattered Hassall's corpuscles are <span style=\"background-color: yellow;\">identified</span>. Mild vascular congestion is <span style=\"background-color: yellow;\">identified</span>. TRACHEA: There is mild chronic inflammation in the submucosa of the trachea. LIVER: The lobular architecture of the liver is well preserved. No inflammation or intrinsic abnormality are <span style=\"background-color: yellow;\">identified</span>. PANCREAS: There is autolysis of the pancreas which is otherwise <span style=\"background-color: yellow;\">unremarkable</span>. KIDNEY: The overall architecture of the kidney is well preserved. There is perhaps mild vascular congestion in the cortex but no inflammation is <span style=\"background-color: yellow;\">identified</span>. BLADDER: The transitional epithelium of the bladder is autolyzed. No significant intrinsic abnormalities are <span style=\"background-color: yellow;\">seen</span>. REPRODUCTIVE ORGANS: <span style=\"background-color: yellow;\">Sections</span> of the uterus are consistent with the prepubescent age. The ovary is <span style=\"background-color: yellow;\">unremarkable</span>. ADRENAL: The architecture of the adrenal is well preserved and no intrinsic abnormalities are <span style=\"background-color: yellow;\">seen</span>. BRAIN: <span style=\"background-color: yellow;\">Sections</span> of the areas of contusion disclose disrupted blood vessels of the cortex with surrounding <span style=\"background-color: yellow;\">hemorrhage</span>. There is no evidence of inflammatory infiltrate or organization of the <span style=\"background-color: yellow;\">hemorrhage</span>. Subarachnoid <span style=\"background-color: yellow;\">hemorrhage</span> is also <span style=\"background-color: yellow;\">identified</span>. Cortical neurons are surrounded by clear halos, as are glial cells. VAGINAL MUCOSA: All of the <span style=\"background-color: yellow;\">sections</span> contain vascular congestion and focal interstitial chronic inflammation. the smallest piece of tissue, from the 7:00 position of the vaginal wall/hymen, contain epithelial erosion with underlying capillary congestion. A <span style=\"background-color: yellow;\">small</span> number of red blood cells is <span style=\"background-color: yellow;\">present</span> on the eroded surface, as is birefringent foreign material. Acute inflammatory infiltrate is not <span style=\"background-color: yellow;\">seen</span>. EVIDENCE: Items turned over to the Police Department as evidence include: Fibers and hair from clothing and body surfaces; ligatures; clothing; vaginal swabs and smears; rectal swabs and smears; oral swabs and smears; paper bags from hands, fingernail clippings, jewelry, paper bags from feet; white body bag; sample of head hair, eyelashes and eyebrows; swabs from <span style=\"background-color: yellow;\">right</span> and <span style=\"background-color: yellow;\">left</span> thighs and <span style=\"background-color: yellow;\">right</span> cheek; red top and purple top tubes of blood. "
      ],
      "text/plain": [
       "<IPython.core.display.HTML object>"
      ]
     },
     "metadata": {},
     "output_type": "display_data"
    },
    {
     "name": "stdout",
     "output_type": "stream",
     "text": [
      "\n",
      "\n",
      "\n"
     ]
    },
    {
     "data": {
      "text/html": [
       "\"MANNER OF DEATH: Homicide. CAUSE OF DEATH: <span style=\"background-color: yellow;\">Exsanguination</span> due to <span style=\"background-color: yellow;\">multiple</span> <span style=\"background-color: yellow;\">stab</span> and <span style=\"background-color: yellow;\">incised</span> <span style=\"background-color: yellow;\">wounds</span> (<span style=\"background-color: yellow;\">head</span>, <span style=\"background-color: yellow;\">Neck</span>, <span style=\"background-color: yellow;\">trunk</span>, <span style=\"background-color: yellow;\">upper</span> <span style=\"background-color: yellow;\">extremities</span>). FINDINGS: 1. <span style=\"background-color: yellow;\">Generalized</span> pallor and <span style=\"background-color: yellow;\">evidence</span> of <span style=\"background-color: yellow;\">exsanguination</span>. 2. <span style=\"background-color: yellow;\">Multiple</span> <span style=\"background-color: yellow;\">stab</span> and <span style=\"background-color: yellow;\">incised</span> <span style=\"background-color: yellow;\">wounds</span> of <span style=\"background-color: yellow;\">head</span>, <span style=\"background-color: yellow;\">neck</span>, <span style=\"background-color: yellow;\">trunk</span> and <span style=\"background-color: yellow;\">upper</span> <span style=\"background-color: yellow;\">extremities</span> with one (1) <span style=\"background-color: yellow;\">stab</span> wound <span style=\"background-color: yellow;\">penetrating</span> <span style=\"background-color: yellow;\">left</span> skull into brain; three (3) <span style=\"background-color: yellow;\">stab</span> <span style=\"background-color: yellow;\">wounds</span> <span style=\"background-color: yellow;\">penetrating</span> <span style=\"background-color: yellow;\">right</span> back into chest cavity and <span style=\"background-color: yellow;\">right</span> lung; another <span style=\"background-color: yellow;\">stab</span> wound at lateral <span style=\"background-color: yellow;\">right</span> chest <span style=\"background-color: yellow;\">penetrating</span> into <span style=\"background-color: yellow;\">right</span> lung; and <span style=\"background-color: yellow;\">multiple</span> <span style=\"background-color: yellow;\">wounds</span> of <span style=\"background-color: yellow;\">upper</span> <span style=\"background-color: yellow;\">extremities</span> consistent with defensive <span style=\"background-color: yellow;\">injuries</span>. 3. <span style=\"background-color: yellow;\">Left</span> lower lateral chest-wall abrasions and contusions with overlying rib fractures of <span style=\"background-color: yellow;\">left</span> ribs #6, #7 and #8. 4. Subarachnoid hemorrhage of <span style=\"background-color: yellow;\">right</span> cerebrum underlying one of the large, undermined <span style=\"background-color: yellow;\">right</span> scalp <span style=\"background-color: yellow;\">incised</span> <span style=\"background-color: yellow;\">wounds</span>. 5. A few other minor blunt-force <span style=\"background-color: yellow;\">injuries</span> of <span style=\"background-color: yellow;\">head</span> and <span style=\"background-color: yellow;\">trunk</span>. 6. Moderate emphysematous changes of lungs. LABORATORY RESULTS: TOXICOLOGY: 1. Blood: a. Ethanol: 0.16 gm%. b. Drugs: <span style=\"background-color: yellow;\">Cocaine</span> present at less than 0.1 ug/ml; cocaethylene present at 0.2 ug/ml; quantity not sufficient for further <span style=\"background-color: yellow;\">examination</span>. 2. Urine: Positive for <span style=\"background-color: yellow;\">cocaine</span>, <span style=\"background-color: yellow;\">cocaine</span> metabolite (ecgonine methyl ester),and cocaethylene, with negative EMIT barbiturates screen. 3. Ocular fluid: Ethanol, 0.16 gm%. INTRODUCTION GENERAL APPEARANCE: The <span style=\"background-color: yellow;\">body</span> is that of a well-developed, well-nourished, adult white man who appears the stated age of 43 years. <span style=\"background-color: yellow;\">Body</span> height is 69 inches, and <span style=\"background-color: yellow;\">body</span> weight is 169 lb. At autopsy, rigor mortis is <span style=\"background-color: yellow;\">generalized</span> to late; livor mortis is posterior and slightly blanching; the <span style=\"background-color: yellow;\">body</span> is cool to touch. Artifacts of decomposition are absent, and <span style=\"background-color: yellow;\">evidence</span> of medical and postmortem care is absent. There is obvious <span style=\"background-color: yellow;\">evidence</span> of <span style=\"background-color: yellow;\">multiple</span> sharp-force injury. IDENTIFICATION: The identity of decedent was established by circumstances of death and discovery of the <span style=\"background-color: yellow;\">body</span>. ROUTINE EXTERNAL <span style=\"background-color: yellow;\">EXAMINATION</span> <span style=\"background-color: yellow;\">CLOTHING</span> AND VALUABLES: The <span style=\"background-color: yellow;\">body</span> is admitted to the morgue dressed and within a sheet and shroud, and then within a <span style=\"background-color: yellow;\">body</span> bag, and with the hands bagged. <span style=\"background-color: yellow;\">Clothing</span> is very bloody and has <span style=\"background-color: yellow;\">injuries</span> matching those at the <span style=\"background-color: yellow;\">trunk</span> (see below). In addition, prior to removal of <span style=\"background-color: yellow;\">clothing</span>, the <span style=\"background-color: yellow;\">body</span> was examined concurrently by me and by the crime scene technician from the (edited) Police Department, and trace <span style=\"background-color: yellow;\">evidence</span> was collected from the <span style=\"background-color: yellow;\">body</span> and <span style=\"background-color: yellow;\">clothing</span>. See \"\"TRACE <span style=\"background-color: yellow;\">EVIDENCE</span>\"\" section at end of report. The <span style=\"background-color: yellow;\">clothing</span> consists of a blue-and-white western-style shirt"
      ],
      "text/plain": [
       "<IPython.core.display.HTML object>"
      ]
     },
     "metadata": {},
     "output_type": "display_data"
    },
    {
     "name": "stdout",
     "output_type": "stream",
     "text": [
      "\n",
      "\n",
      "\n"
     ]
    },
    {
     "data": {
      "text/html": [
       "\"ANATOMICAL <span style=\"background-color: yellow;\">SUMMARY</span> 1. <span style=\"background-color: yellow;\">Sharp</span> force <span style=\"background-color: yellow;\">wound</span> of <span style=\"background-color: yellow;\">neck</span>, <span style=\"background-color: yellow;\">left</span> side, with transection of <span style=\"background-color: yellow;\">left</span> internal jugular vein. 2. <span style=\"background-color: yellow;\">Multiple</span> <span style=\"background-color: yellow;\">stab</span> <span style=\"background-color: yellow;\">wounds</span> of <span style=\"background-color: yellow;\">chest</span>, <span style=\"background-color: yellow;\">abdomen</span>, and <span style=\"background-color: yellow;\">left</span> thigh: <span style=\"background-color: yellow;\">Penetrating</span> <span style=\"background-color: yellow;\">stab</span> <span style=\"background-color: yellow;\">wounds</span> of <span style=\"background-color: yellow;\">chest</span> and <span style=\"background-color: yellow;\">abdomen</span> with right hemothorax and hemoperitoneum. 3. <span style=\"background-color: yellow;\">Multiple</span> incised <span style=\"background-color: yellow;\">wounds</span> of scalp, face, <span style=\"background-color: yellow;\">neck</span>, <span style=\"background-color: yellow;\">chest</span> and <span style=\"background-color: yellow;\">left</span> hand (<span style=\"background-color: yellow;\">defense</span> <span style=\"background-color: yellow;\">wound</span>). 4. <span style=\"background-color: yellow;\">Multiple</span> abrasions upper extremities and hands (<span style=\"background-color: yellow;\">defense</span> <span style=\"background-color: yellow;\">wounds</span>). <span style=\"background-color: yellow;\">NOTES</span> AND <span style=\"background-color: yellow;\">PROCEDURES</span> 1. The body is described in the <span style=\"background-color: yellow;\">Standard</span> Anatomical <span style=\"background-color: yellow;\">Position</span>. <span style=\"background-color: yellow;\">Reference</span> is to this <span style=\"background-color: yellow;\">position</span> only. 2. Where necessary, <span style=\"background-color: yellow;\">injuries</span> are numbered for <span style=\"background-color: yellow;\">reference</span>. This is arbitrary and does not correspond to any order in which they may have been incurred. All the <span style=\"background-color: yellow;\">injuries</span> are antemortem, unless otherwise specified. 3. The term \"\"anatomic\"\" is used as a specification to indicate correspondence with the description as set forth in the textbooks of Gross Anatomy. It denotes freedom from significant"
      ],
      "text/plain": [
       "<IPython.core.display.HTML object>"
      ]
     },
     "metadata": {},
     "output_type": "display_data"
    },
    {
     "name": "stdout",
     "output_type": "stream",
     "text": [
      "\n",
      "\n",
      "\n"
     ]
    },
    {
     "data": {
      "text/html": [
       "EXTERNAL EXAMINATION: The body is that of a 62-inch, 112-pound white female who appears the recorded age of 41 years. The body is clad in a pink and white gown. Three pillows and a blanket are also received with the body. The scalp is covered in thick brown hair with flecks of gray. The irides are brown. There is bilateral tache noire. The eyelids are yellow and <span style=\"background-color: yellow;\">dry</span>. The eyes have a sunken appearance. The ears and nose are normally developed. The mouth has partial natural dentition. The <span style=\"background-color: yellow;\">left</span> <span style=\"background-color: yellow;\">upper</span> first bicuspid through the molars are absent. The <span style=\"background-color: yellow;\">left</span> <span style=\"background-color: yellow;\">lower</span> bicuspid is absent. The <span style=\"background-color: yellow;\">right</span> <span style=\"background-color: yellow;\">upper</span> second molar is capped. The <span style=\"background-color: yellow;\">left</span> <span style=\"background-color: yellow;\">lower</span> first molar appears decayed. The teeth are otherwise in good repair. The lips and buccal mucosa have no trauma. The <span style=\"background-color: yellow;\">neck</span> is <span style=\"background-color: yellow;\">unremarkable</span> except for a 2.5 <span style=\"background-color: yellow;\">cm</span> tracheostomy <span style=\"background-color: yellow;\">scar</span> just above the suprasternal notch. The posterior <span style=\"background-color: yellow;\">portion</span> of the <span style=\"background-color: yellow;\">neck</span> is <span style=\"background-color: yellow;\">unremarkable</span> and free of scars. An obliquely oriented 6 <span style=\"background-color: yellow;\">cm</span> surgical <span style=\"background-color: yellow;\">scar</span> is on the <span style=\"background-color: yellow;\">anterior</span> <span style=\"background-color: yellow;\">left</span> chest with an underlying, implanted, medical device. The breasts are pendulous and otherwise <span style=\"background-color: yellow;\">unremarkable</span>. There is white powder underneath the breasts. A round, 8 mm <span style=\"background-color: yellow;\">scar</span> is on the <span style=\"background-color: yellow;\">upper</span> central abdomen. A horizontally oriented 2.5 <span style=\"background-color: yellow;\">cm</span> linear <span style=\"background-color: yellow;\">scar</span> is on the central <span style=\"background-color: yellow;\">upper</span> abdomen. A faint, approximately 1 <span style=\"background-color: yellow;\">cm</span> <span style=\"background-color: yellow;\">scar</span> is on the <span style=\"background-color: yellow;\">right</span> mid lateral abdomen. There are a few striae on the hips and <span style=\"background-color: yellow;\">lower</span> abdomen. The external genitalia are normally developed and white powder covers the perineum. The labia are <span style=\"background-color: yellow;\">dry</span>. The urethral meatus is visible and 3.5 mm in diameter. No objects or substances are in the vagina other than a slight amount of yellow-white discharge. The anus is patent and <span style=\"background-color: yellow;\">unremarkable</span>. Faint, pink-white, flat, 1-2 <span style=\"background-color: yellow;\">cm</span> scars are just above the superior <span style=\"background-color: yellow;\">portion</span> of the gluteal cleft. A 2.5 <span style=\"background-color: yellow;\">cm</span>, somewhat square shaped, brown macule is on the <span style=\"background-color: yellow;\">left</span> buttock. There are no open and active decubitus ulcers. The <span style=\"background-color: yellow;\">upper</span> extremities have flexion contractures with striae on the medial portions of the <span style=\"background-color: yellow;\">upper</span> arms. The muscles of the extremities are <span style=\"background-color: yellow;\">atrophic</span>. The <span style=\"background-color: yellow;\">lower</span> extremities are partially shaved. The <span style=\"background-color: yellow;\">left</span> fifth toe is absent. The skin on the back is <span style=\"background-color: yellow;\">intact</span>. The spine has accentuated thoracic kyphosis and lumbar lordosis. The skin demonstrates tenting RADIOGRAPHS: Postmortem radiographs show radiopaque shadows extending from the periosteum of the femurs, <span style=\"background-color: yellow;\">left</span> tibia, and <span style=\"background-color: yellow;\">right</span> ischial tuberosity. Diffuse, severe osteoporosis is present. The 11th thoracic vertebral body has an endplate fracture. Degenerative joint changes are noted in the acromioclavicular joints, hips, <span style=\"background-color: yellow;\">right</span> knee, <span style=\"background-color: yellow;\">left</span> foot, and pelvis. The <span style=\"background-color: yellow;\">left</span> fifth toe is amputated along with the distal <span style=\"background-color: yellow;\">portion</span> of the <span style=\"background-color: yellow;\">left</span> fifth metatarsal. Radiographs of <span style=\"background-color: yellow;\">anterior</span> <span style=\"background-color: yellow;\">neck</span> structures and iliac wings are not <span style=\"background-color: yellow;\">remarkable</span>. Calculi are seen in the urinary tract. Staples are in the gallbladder bed. INTERNAL EXAMINATION: The muscles of the chest and abdominal wall are normally developed. The subcutaneous tissues are <span style=\"background-color: yellow;\">dry</span>. The panniculus is 2.5-3 <span style=\"background-color: yellow;\">cm</span>. In the <span style=\"background-color: yellow;\">left</span> chest wall is an implanted medical device with a wire extending through subcutaneous tissues of the <span style=\"background-color: yellow;\">left</span> <span style=\"background-color: yellow;\">neck</span> and into the <span style=\"background-color: yellow;\">left</span> scalp. A flat, four-prong electrical device is in the subgaleal <span style=\"background-color: yellow;\">area</span> of the <span style=\"background-color: yellow;\">left</span> scalp. A wire then further extends into the cranial cavity. The peritoneal cavity is <span style=\"background-color: yellow;\">unremarkable</span> and <span style=\"background-color: yellow;\">dry</span>. There are no intraperitoneal adhesions except for an adhesion of the <span style=\"background-color: yellow;\">anterior</span> <span style=\"background-color: yellow;\">portion</span> of the stomach to the <span style=\"background-color: yellow;\">anterior</span> abdominal wall in the <span style=\"background-color: yellow;\">area</span> of the previously described round abdominal <span style=\"background-color: yellow;\">scar</span>. The organs are in the usual anatomic relations. The pleural cavities are <span style=\"background-color: yellow;\">dry</span>. The lungs are well aerated. The <span style=\"background-color: yellow;\">pericardial</span> sac is <span style=\"background-color: yellow;\">remarkable</span> for a 1 <span style=\"background-color: yellow;\">cm</span> focal <span style=\"background-color: yellow;\">area</span> of <span style=\"background-color: yellow;\">anterior</span> <span style=\"background-color: yellow;\">pericardial</span> adhesion to the <span style=\"background-color: yellow;\">anterior</span> <span style=\"background-color: yellow;\">portion</span> of the <span style=\"background-color: yellow;\">right</span> ventricle. There is some lateral adhesion of the <span style=\"background-color: yellow;\">right</span> ventricle to the <span style=\"background-color: yellow;\">right</span> lateral <span style=\"background-color: yellow;\">portion</span> of the <span style=\"background-color: yellow;\">pericardial</span> sac. No other adhesions are noted. The <span style=\"background-color: yellow;\">pericardial</span> sac is <span style=\"background-color: yellow;\">dry</span>. The diaphragm is <span style=\"background-color: yellow;\">intact</span>. The sternum is <span style=\"background-color: yellow;\">unremarkable</span>. The ribs have no trauma and are normally developed with somewhat prominent costochondral junctions. CARDIOVASCULAR SYSTEM: The <span style=\"background-color: yellow;\">pericardial</span> sac is <span style=\"background-color: yellow;\">remarkable</span> as previously described. The epicardial fat of the 255 gram heart is otherwise <span style=\"background-color: yellow;\">unremarkable</span>. The root of the aorta has no atherosclerosis. The arch and descending aorta have minimal atherosclerosis (see attached CV pathology report). RESPIRATORY SYSTEM: The <span style=\"background-color: yellow;\">right</span> and <span style=\"background-color: yellow;\">left</span> lungs are 260 and 245 grams, respectively. The lungs have a normal number of lobes and have light pink-red outer surfaces. The bronchi are unobstructed. The well-aerated lung parenchyma is pink-red. There are no anthracosis, tumors, cysts, or infarcts. The <span style=\"background-color: yellow;\">upper</span> lobe bronchi <span style=\"background-color: yellow;\">contain</span> a scant amount pearlescent <span style=\"background-color: yellow;\">fluid</span>. The proximal bronchi <span style=\"background-color: yellow;\">contain</span> yellow pearlescent <span style=\"background-color: yellow;\">fluid</span>. The <span style=\"background-color: yellow;\">lower</span> lobe distal bronchi <span style=\"background-color: yellow;\">contain</span> some scattered areas of yellow pearlescent <span style=\"background-color: yellow;\">fluid</span>. The alveoli otherwise <span style=\"background-color: yellow;\">contain</span> foamy, reddish-white <span style=\"background-color: yellow;\">fluid</span>. The pulmonary arteries <span style=\"background-color: yellow;\">contain</span> no emboli. The <span style=\"background-color: yellow;\">lower</span> lobes have firm areas of partial consolidation with yellow-green pearlescent <span style=\"background-color: yellow;\">fluid</span>. The firm <span style=\"background-color: yellow;\">area</span> of the <span style=\"background-color: yellow;\">left</span> <span style=\"background-color: yellow;\">lower</span> lobe is 4 <span style=\"background-color: yellow;\">x</span> 4 <span style=\"background-color: yellow;\">x</span> 3 <span style=\"background-color: yellow;\">cm</span>. The <span style=\"background-color: yellow;\">right</span> lung has scattered firm areas ( HEMOLYMPHATIC SYSTEM: The 215 gram spleen is covered in an <span style=\"background-color: yellow;\">intact</span>, gray, somewhat wrinkled capsule. There are two hilar accessory spleens (1.4 and 1 <span style=\"background-color: yellow;\">cm</span> in diameter). The splenic parenchyma is dark red-maroon and <span style=\"background-color: yellow;\">unremarkable</span>. There is no interstitial fibrosis, tumors, cysts or infarcts. No enlarged lymph nodes are noted. The bone marrow of the lumbar vertebral bodies is red and soft. GENITOURINARY SYSTEM: The <span style=\"background-color: yellow;\">right</span> and <span style=\"background-color: yellow;\">left</span> kidneys are 100 and 130 grams, respectively. The <span style=\"background-color: yellow;\">right</span> kidney has a central, 2-2.5 <span style=\"background-color: yellow;\">cm</span>, obliquely oriented cleft/<span style=\"background-color: yellow;\">scar</span> extending from the central renal pelvis to the <span style=\"background-color: yellow;\">upper</span> lateral cortex. The brown-tan outer surfaces are otherwise slightly lobular and granular. The pelvis of the <span style=\"background-color: yellow;\">right</span> kidney is mildly dilated. A 1 <span style=\"background-color: yellow;\">x</span> 0.6 <span style=\"background-color: yellow;\">x</span> 0.7 <span style=\"background-color: yellow;\">cm</span>, green-brown stone is in the pelvis of the <span style=\"background-color: yellow;\">right</span> kidney. The <span style=\"background-color: yellow;\">left</span> renal pelvis has an approximately 0.5 <span style=\"background-color: yellow;\">x</span> 0.6 <span style=\"background-color: yellow;\">x</span> 1 <span style=\"background-color: yellow;\">cm</span>, green-brown stone. The corticomedullary ratios are reduced. The pelvic fat is increased. The <span style=\"background-color: yellow;\">left</span> ureter contains pearlescent <span style=\"background-color: yellow;\">fluid</span>. The urinary bladder contains 6 cc of brown-yellow <span style=\"background-color: yellow;\">fluid</span>. A 3.8 <span style=\"background-color: yellow;\">x</span> 1.2 <span style=\"background-color: yellow;\">x</span> 1 <span style=\"background-color: yellow;\">cm</span>, white-yellow, somewhat crescent shaped stone is within the lumen of the bladder. The uterus is present and has a normal shape. The cervix is normally developed. The cervical os is large (coned) and contains mucoid <span style=\"background-color: yellow;\">fluid</span>. There are a few minute nabothian cysts ( GASTROINTESTINAL SYSTEM: The stomach contains 60 cc of green-brown <span style=\"background-color: yellow;\">fluid</span> without any solid food fragments. The gastric mucosa is flat, congested, and green-gray. The gastric mucosa is congested. No ulcerations are noted. There are a few congested vessels with minute petechiae around the previously healed ostomy site. An 8 mm blood clot is on the gastric mucosa near the healed/healing gastrostomy site. The wall of the stomach is thin ( HEPATOBILIARY SYSTEM: The outer surface of the 965 gram liver is covered in a transparent <span style=\"background-color: yellow;\">intact</span> capsule. There are very few inferior hepatic adhesions associated with an absent gallbladder. Surgical staples are imbedded in the <span style=\"background-color: yellow;\">area</span> of the cystic duct. The hepatic parenchyma is brown-green with a slight pattern of <span style=\"background-color: yellow;\">congestion</span>. The bile ducts and portal veins appear grossly <span style=\"background-color: yellow;\">unremarkable</span>. No fibrosis, cysts or infarcts are noted. A yellow-white, round, 2 mm nodule is in the <span style=\"background-color: yellow;\">anterior</span> <span style=\"background-color: yellow;\">portion</span> of the <span style=\"background-color: yellow;\">right</span> lobe of the liver. ENDOCRINE SYSTEM: The adrenals and pancreas are present and grossly <span style=\"background-color: yellow;\">unremarkable</span>. The thyroid is mildly <span style=\"background-color: yellow;\">atrophic</span> without nodules. MUSCULOSKELETAL SYSTEM: The <span style=\"background-color: yellow;\">upper</span> and <span style=\"background-color: yellow;\">lower</span> extremities are <span style=\"background-color: yellow;\">atrophic</span> as previously described. The trunk musculature is <span style=\"background-color: yellow;\">atrophic</span>. A 1 <span style=\"background-color: yellow;\">x</span> 1.5 <span style=\"background-color: yellow;\">x</span> 1 <span style=\"background-color: yellow;\">cm</span> <span style=\"background-color: yellow;\">area</span> of induration/calcification extends from the <span style=\"background-color: yellow;\">anterior</span> surface of the <span style=\"background-color: yellow;\">right</span> femur. The <span style=\"background-color: yellow;\">anterior</span>/lateral cortical surface of the distal <span style=\"background-color: yellow;\">right</span> femur metaphysis is rough and irregular. The cortical bone of the lumbar and thoracic vertebral bodies is thin and soft. The iliac wings have no trauma or deformity. <span style=\"background-color: yellow;\">NECK</span>: The strap muscles of the <span style=\"background-color: yellow;\">anterior</span> <span style=\"background-color: yellow;\">neck</span> have <span style=\"background-color: yellow;\">intact</span> musculature with atrophy of the musculature on the <span style=\"background-color: yellow;\">right</span> side. The <span style=\"background-color: yellow;\">right</span> sternocleidomastoid is moderately <span style=\"background-color: yellow;\">atrophic</span>. There are no hemorrhages. The larynx and piriform recesses <span style=\"background-color: yellow;\">contain</span> yellow-tan, mucoid <span style=\"background-color: yellow;\">fluid</span>. There is yellow-green, mucoid <span style=\"background-color: yellow;\">fluid</span> on the base of the tongue and epiglottis. The larynx contains a scant amount of <span style=\"background-color: yellow;\">fluid</span>. The thyroid and cricoid cartilages are <span style=\"background-color: yellow;\">intact</span>. The hyoid bone is <span style=\"background-color: yellow;\">intact</span>. The tongue is <span style=\"background-color: yellow;\">atrophic</span>. There is a yellow-green <span style=\"background-color: yellow;\">dry</span> crusted material on the surface of the tongue. The posterior pharyngeal musculature appears <span style=\"background-color: yellow;\">atrophic</span>. There are no hemorrhages. A healed tracheostomy site is on the <span style=\"background-color: yellow;\">anterior</span> trachea. The carotid arteries and jugular veins are not <span style=\"background-color: yellow;\">remarkable</span>. The muscles and cervical vertebral bodies of the posterior <span style=\"background-color: yellow;\">neck</span> are not <span style=\"background-color: yellow;\">remarkable</span>. The spinal cord and column have no trauma. The posterior laminae are soft. CENTRAL NERVOUS SYSTEM: See neuropathology report MICROSCOPIC EXAMINATION: (Also see neuropathology and cardiovascular pathology reports) LUNGS, <span style=\"background-color: yellow;\">LOWER</span> LOBES: Widespread bronchopneumonia. Intraalveolar debris and bacteria. Intraalveolar foamy macrophages. <span style=\"background-color: yellow;\">Congestion</span>. Edema. UTERUS: Late proliferative endometrium leiomyoma. ACCESSORY SPLEEN: Not <span style=\"background-color: yellow;\">remarkable</span>. COLON: Autolysis. Melanosis. URINARY BLADDER: Chronic inflammation. OVARIES: Corpora albicantia. Follicular cyst. FALLOPIAN TUBES: Paratubal cyst. <span style=\"background-color: yellow;\">Congestion</span>. VAGINA: Vascular <span style=\"background-color: yellow;\">congestion</span>. ADRENAL GLANDS: Mild <span style=\"background-color: yellow;\">congestion</span>. STOMACH, GASTROSTOMY: Clotted blood. LIVER: Focal nodular hyperplasia (single focus). Centrilobular <span style=\"background-color: yellow;\">congestion</span> with steatosis KIDNEYS: Tubular necrosis. Mild vascular <span style=\"background-color: yellow;\">congestion</span>. THYROID: Not <span style=\"background-color: yellow;\">remarkable</span>. PANCREAS: Early autolysis. Mild interstitial fibrosis. EPIGLOTTIS: Focal ulceration with acute inflammation. LARYNX, <span style=\"background-color: yellow;\">RIGHT</span> ARYEPIGLOTTIC FOLD: Not <span style=\"background-color: yellow;\">remarkable</span>. TONGUE: No significant histologic abnormalities. FEMUR, <span style=\"background-color: yellow;\">RIGHT</span>: Heterotopic ossification. FEMUR, THIGH, <span style=\"background-color: yellow;\">RIGHT</span>: Heterotopic ossification. RIBS, COSTOCHONDRAL JUNCTION: No significant histologic abnormalities. BONE, THORACIC VERTEBRA: Severe osteoporosis. <span style=\"background-color: yellow;\">Unremarkable</span> bone marrow. BREASTS: Not <span style=\"background-color: yellow;\">remarkable</span>. AUTOPSY FINDINGS: 1. Anoxic-ischemic encephalopathy (see attached neuropathology report). a. Extremity muscle atrophy and contractures. b. Bilateral bronchopneumonia. c. Osteoporosis (with Tl 1 endplate fracture). d. Urolithiasis. e. Renal <span style=\"background-color: yellow;\">scar</span> (<span style=\"background-color: yellow;\">right</span>). f. Heterotopic ossification. g. Degenerative joint changes. h. Glossal, pharyngeal, and <span style=\"background-color: yellow;\">neck</span> muscle atrophy. i. Healing gastrostomy. j. Implanted electrical stimulator. k. Healed decubitus ulcer (s) and remote <span style=\"background-color: yellow;\">left</span> fifth toe amputation. 2. Dehydration a. Vitreous chemistry: sodium 207 mmol/L, chloride 184 mmol/L, urea nitrogen 133 mg/dL, creatinine 1.3 mg/dL, glucose 57 mg/L. b. <span style=\"background-color: yellow;\">Dry</span> skin and body cavities. c. Renal tubular necrosis. 3. Toxicology a. Heart blood: acetaminophen 8.8 mg/L. b. Urine: acetaminophen detected. 4. Status post cholecystectomy. 5. Hyperostosis frontalis interna. 6. Uterine leiomyoma. 7. Cardiovascular (see attached cardiovascular pathology report). a. Heart weight 255 grams. b. Focal <span style=\"background-color: yellow;\">pericardial</span> adhesions. c. Cardiac ion channel mutation screening: Negative. CAUSE OF DEATH: Complications of Anoxic Encephalopathy. MANNER OF DEATH: Undetermined. "
      ],
      "text/plain": [
       "<IPython.core.display.HTML object>"
      ]
     },
     "metadata": {},
     "output_type": "display_data"
    },
    {
     "name": "stdout",
     "output_type": "stream",
     "text": [
      "\n",
      "\n",
      "\n"
     ]
    },
    {
     "data": {
      "text/html": [
       "SUMMARY OF CLINICAL HISTORY: The <span style=\"background-color: yellow;\">patient</span> was a 35-year-old African-American male with no significant past medical history who called <span style=\"background-color: yellow;\">EMS</span> with shortness of breath and chest pain. Upon <span style=\"background-color: yellow;\">EMS</span> arrival, <span style=\"background-color: yellow;\">patient</span> was tachypneic at 40 breaths per minute with oxygen saturation of 90%. At the scene, <span style=\"background-color: yellow;\">EMS</span> administered breathing treatments and checked <span style=\"background-color: yellow;\">lung</span> sounds that did not reveal any <span style=\"background-color: yellow;\">evidence</span> of <span style=\"background-color: yellow;\">fluid</span> in the <span style=\"background-color: yellow;\">lung</span> fields. <span style=\"background-color: yellow;\">EMS</span> also reports <span style=\"background-color: yellow;\">patient</span> was agitated upon their arrival at his residence. Two minutes after arrival at UTMB at 1500, the <span style=\"background-color: yellow;\">patient</span> became unresponsive, apneic, and had oxygen saturations from 80-90%. The <span style=\"background-color: yellow;\">patient</span>'s <span style=\"background-color: yellow;\">heart</span> rate decreased to asystole, was intubated with good breath sounds and air movement. <span style=\"background-color: yellow;\">Patient</span> then had wide complex bradycardia and ACLS protocol for pulseless electrical activity was followed for 45 minutes. The <span style=\"background-color: yellow;\">patient</span> was administered TPA with no improvement. Bedside echocardiogram showed no pericardial effusion. The <span style=\"background-color: yellow;\">patient</span> was administered D5W, Narcan, and <span style=\"background-color: yellow;\">multiple</span> rounds of epinephrine and atropine, calcium chloride, and sodium bicarbonate. The <span style=\"background-color: yellow;\">patient</span> had three episodes of ventricular tachycardia/fibrillation with cardioversion/defibrillation resulting in asystole. The <span style=\"background-color: yellow;\">patient</span> was pronounced dead at 1605 with fixed, dilated pupils, no <span style=\"background-color: yellow;\">heart</span> sounds, no pulse and no spontaneous respirations. DESCRIPTION OF GROSS LESIONS EXTERNAL EXAMINATION: The body is that of a 35-year-old well-developed, well-nourished male. There is no peripheral edema of the extremities. There is an area of congestion/erythema on the upper chest and anterior neck. There are <span style=\"background-color: yellow;\">multiple</span> small areas of hemorrhage bilaterally in the conjunctiva. A nasogastric tube and endotracheal tube are in place. There is an intravenous line in the <span style=\"background-color: yellow;\">right</span> hand and <span style=\"background-color: yellow;\">left</span> femoral region. The <span style=\"background-color: yellow;\">patient</span> has <span style=\"background-color: yellow;\">multiple</span> lead pads on the thorax. The <span style=\"background-color: yellow;\">patient</span> has no other major surgical scars. INTERNAL EXAMINATION (BODY CAVITIES): The <span style=\"background-color: yellow;\">right</span> and <span style=\"background-color: yellow;\">left</span> pleural cavity contains 10 ml of clear <span style=\"background-color: yellow;\">fluid</span> with no adhesions. The pericardial sac is yellow, glistening <span style=\"background-color: yellow;\">without</span> adhesions or fibrosis and contains 30 ml of a straw colored <span style=\"background-color: yellow;\">fluid</span>. There is minimal <span style=\"background-color: yellow;\">fluid</span> in the peritoneal cavity. <span style=\"background-color: yellow;\">HEART</span>: The <span style=\"background-color: yellow;\">heart</span> is <span style=\"background-color: yellow;\">large</span> with a <span style=\"background-color: yellow;\">normal</span> shape and a weight of 400 <span style=\"background-color: yellow;\">grams</span>. The pericardium is intact. The epicardial fat is diffusely firm. As <span style=\"background-color: yellow;\">patient</span> was greater than 48 hours post mortem, no TTC staining was utilized. Upon opening the <span style=\"background-color: yellow;\">heart</span> was <span style=\"background-color: yellow;\">grossly</span> <span style=\"background-color: yellow;\">normal</span> <span style=\"background-color: yellow;\">without</span> <span style=\"background-color: yellow;\">evidence</span> of infarction. There were slightly raised white plaques in the <span style=\"background-color: yellow;\">left</span> ventricle wall lining. The <span style=\"background-color: yellow;\">left</span> ventricle <span style=\"background-color: yellow;\">measures</span> 2.2 <span style=\"background-color: yellow;\">cm</span>, the <span style=\"background-color: yellow;\">right</span> ventricle <span style=\"background-color: yellow;\">measures</span> 0.2 <span style=\"background-color: yellow;\">cm</span>, the tricuspid ring <span style=\"background-color: yellow;\">measures</span> 11 <span style=\"background-color: yellow;\">cm</span>, the pulmonic <span style=\"background-color: yellow;\">right</span> <span style=\"background-color: yellow;\">measures</span> 8 <span style=\"background-color: yellow;\">cm</span>, the mitral ring <span style=\"background-color: yellow;\">measures</span> 10.2 <span style=\"background-color: yellow;\">cm</span>, and the aortic ring <span style=\"background-color: yellow;\">measures</span> 7 <span style=\"background-color: yellow;\">cm</span>. The foramen ovale is closed. The circulation is <span style=\"background-color: yellow;\">left</span> dominant. Examination of the great vessels of the <span style=\"background-color: yellow;\">heart</span> reveals minimal atherosclerosis with the area of greatest stenosis (20% stenosis) at the bifurcation of the LAD. AORTA: There is minimal atherosclerosis with no measurable plaques along the full length of the ascending and descending aorta. LUNGS: The <span style=\"background-color: yellow;\">right</span> <span style=\"background-color: yellow;\">lung</span> weighed 630 <span style=\"background-color: yellow;\">grams</span>, the <span style=\"background-color: yellow;\">left</span> weighed 710 <span style=\"background-color: yellow;\">grams</span>. The <span style=\"background-color: yellow;\">lung</span> parenchyma is pink <span style=\"background-color: yellow;\">without</span> <span style=\"background-color: yellow;\">evidence</span> of congestion of hemorrhage. The bronchi are <span style=\"background-color: yellow;\">grossly</span> <span style=\"background-color: yellow;\">normal</span>. In the <span style=\"background-color: yellow;\">right</span> <span style=\"background-color: yellow;\">lung</span>, there are two <span style=\"background-color: yellow;\">large</span> <span style=\"background-color: yellow;\">organizing</span> thrombo-emboli. The first is located at the first branch of the <span style=\"background-color: yellow;\">pulmonary</span> artery with an older, <span style=\"background-color: yellow;\">organizing</span> area adherent to the vessel wall measuring 1.0 <span style=\"background-color: yellow;\">x</span> 1.0 <span style=\"background-color: yellow;\">x</span> 2.5 <span style=\"background-color: yellow;\">cm</span>. Surrounding this <span style=\"background-color: yellow;\">organizing</span> area is a newer area of apparent thrombosis completely occluding the bifurcation. The other <span style=\"background-color: yellow;\">large</span> <span style=\"background-color: yellow;\">organizing</span>, adherent embolus is located further in out in the vasculature measuring approximately 1.0 <span style=\"background-color: yellow;\">x</span> 1.0 <span style=\"background-color: yellow;\">x</span> 1.5 <span style=\"background-color: yellow;\">cm</span>. There are <span style=\"background-color: yellow;\">multiple</span> other emboli located in smaller <span style=\"background-color: yellow;\">pulmonary</span> vessels that show <span style=\"background-color: yellow;\">evidence</span> of distending the vessels they are located inside. GASTROINTESTINAL SYSTEM: The esophagus and stomach are <span style=\"background-color: yellow;\">normal</span> in appearance <span style=\"background-color: yellow;\">without</span> <span style=\"background-color: yellow;\">evidence</span> of ulcers or varices. The stomach contains approximately 800 ml, <span style=\"background-color: yellow;\">without</span> <span style=\"background-color: yellow;\">evidence</span> of any pills or other non-foodstuff material. The pancreas shows a <span style=\"background-color: yellow;\">normal</span> lobular <span style=\"background-color: yellow;\">cut</span> surface with <span style=\"background-color: yellow;\">evidence</span> of autolysis. The duodenum, ileum, jejunum and colon are all <span style=\"background-color: yellow;\">grossly</span> <span style=\"background-color: yellow;\">normal</span> <span style=\"background-color: yellow;\">without</span> <span style=\"background-color: yellow;\">evidence</span> of abnormal vasculature or diverticula. An appendix is present and is unremarkable. The liver weighs 2850 <span style=\"background-color: yellow;\">grams</span> and the <span style=\"background-color: yellow;\">cut</span> surface reveals a <span style=\"background-color: yellow;\">normal</span> liver with no fibrosis present <span style=\"background-color: yellow;\">grossly</span>. The gallbladder is in place with a probe patent bile duct through to the ampulla of Vater. RETICULOENDOTHELIAL SYSTEM: The spleen is <span style=\"background-color: yellow;\">large</span> weighing 340 <span style=\"background-color: yellow;\">grams</span>, the <span style=\"background-color: yellow;\">cut</span> surface reveals a <span style=\"background-color: yellow;\">normal</span> appearing white and red pulp. No abnormally <span style=\"background-color: yellow;\">large</span> lymph nodes were noted. GENITOURINARY SYSTEM: The <span style=\"background-color: yellow;\">right</span> kidney weighs 200 <span style=\"background-color: yellow;\">grams</span>, the <span style=\"background-color: yellow;\">left</span> weighs 210 <span style=\"background-color: yellow;\">grams</span>. The <span style=\"background-color: yellow;\">left</span> kidney contains a 1.0 <span style=\"background-color: yellow;\">x</span> 1.0 <span style=\"background-color: yellow;\">x</span> 1.0 simple cyst containing a clear <span style=\"background-color: yellow;\">fluid</span>. The <span style=\"background-color: yellow;\">cut</span> surface reveals a <span style=\"background-color: yellow;\">normal</span> appearing cortex and medulla with intact calyces. The prostate and seminal vessels were <span style=\"background-color: yellow;\">cut</span> revealing <span style=\"background-color: yellow;\">normal</span> appearing prostate and seminal vesicle tissue <span style=\"background-color: yellow;\">without</span> <span style=\"background-color: yellow;\">evidence</span> of inflammation or embolus. ENDOCRINE SYSTEM: The adrenal glands are in the <span style=\"background-color: yellow;\">normal</span> position and weigh 8.0 <span style=\"background-color: yellow;\">grams</span> on the <span style=\"background-color: yellow;\">right</span> and 11.6 <span style=\"background-color: yellow;\">grams</span> on the <span style=\"background-color: yellow;\">left</span>. The <span style=\"background-color: yellow;\">cut</span> surface of the adrenal glands reveals a <span style=\"background-color: yellow;\">normal</span> appearing cortex and medulla. The thyroid gland weighs 12.4 <span style=\"background-color: yellow;\">grams</span> and is <span style=\"background-color: yellow;\">grossly</span> <span style=\"background-color: yellow;\">normal</span>. EXTREMITIES: Both legs and calves were measured and found to be very similar in circumference. Both legs were also milked and produced no clots in the venous system. CLINICOPATHOLOGIC CORRELATION This <span style=\"background-color: yellow;\">patient</span> died shortly after a previous <span style=\"background-color: yellow;\">pulmonary</span> embolus completely occluded the <span style=\"background-color: yellow;\">right</span> <span style=\"background-color: yellow;\">pulmonary</span> artery vasculature. The most significant finding on autopsy was the presence of <span style=\"background-color: yellow;\">multiple</span> old and new thromboemboli in the <span style=\"background-color: yellow;\">pulmonary</span> vasculature of the <span style=\"background-color: yellow;\">right</span> <span style=\"background-color: yellow;\">lung</span>. The autopsy revealed <span style=\"background-color: yellow;\">evidence</span> of <span style=\"background-color: yellow;\">multiple</span> emboli in the <span style=\"background-color: yellow;\">right</span> <span style=\"background-color: yellow;\">lung</span> that were at least a few days old because the emboli that were <span style=\"background-color: yellow;\">organizing</span> were adherent to the vessel wall. In order to be adherent to the vessel wall, the emboli must be in place long enough to evoke a fibroblast response, which takes at least a few days. The fatal event was not the old emboli in the <span style=\"background-color: yellow;\">right</span> <span style=\"background-color: yellow;\">lung</span>, but rather the thrombosis on top of the <span style=\"background-color: yellow;\">large</span> saddle thrombus residing in the <span style=\"background-color: yellow;\">pulmonary</span> artery. This created a high-pressure situation that the <span style=\"background-color: yellow;\">right</span> ventricle could not handle resulting in cardiac dysfunction and ultimately the <span style=\"background-color: yellow;\">patient</span>'s demise. Although this case is fairly straight forward in terms of what caused the terminal event, perhaps the more interesting question is why a relatively healthy 35-year-old man would develop a fatal <span style=\"background-color: yellow;\">pulmonary</span> embolism. Virchow's triad suggests we should investigate endothelial injury, stasis and a hypercoagulable state as possible etiologies. The age of the <span style=\"background-color: yellow;\">patient</span> probably precludes venous stasis as the sole reason for the embolus although it could have certainly contributed. The autopsy revealed no <span style=\"background-color: yellow;\">evidence</span> of endothelial damage in the <span style=\"background-color: yellow;\">pulmonary</span> vasculature that would have caused the occlusion. The next logical reason would be a hypercoagulable state. Some possibilities include obesity, trauma, surgery, cancer, Factor V Leiden deficiency (as well as other inherited disorders-prothrombin gene mutation, deficiencies in protein C, protein S, or antithrombin III, and disorders of plasminogen), and Lupus anticoagulant. Of these risks factors, obesity was the only risk factor the <span style=\"background-color: yellow;\">patient</span> was known to have. The <span style=\"background-color: yellow;\">patient</span> had no <span style=\"background-color: yellow;\">evidence</span> of trauma, surgery, cancer or the stigmata of SLE, therefore these are unlikely. Perhaps the most fruitful search would be an examination of the genetic possibilities for a hypercoagulable state (Factor V Leiden being the most common). In summary, this <span style=\"background-color: yellow;\">patient</span> died of a <span style=\"background-color: yellow;\">pulmonary</span> embolism, the underlying cause of which is currently undetermined. A definitive diagnosis may be ascertained with either genetic or other laboratory tests and a more detailed history. SUMMARY AND REFLECTION WHAT I LEARNED FROM THIS AUTOPSY: I learned that although a cause of death may sometimes be obvious, the underlying mechanism for the death may still be elusive. This <span style=\"background-color: yellow;\">patient</span> was an otherwise completely healthy 35-year-old man with one known risk factor for a hypercoagulable state. REMAINING UNANSWERED QUESTIONS: Basically the cause of the hypercoagulable state is undetermined. Once that question is answered I believe this autopsy will have done a great service for the <span style=\"background-color: yellow;\">patient</span>'s family. "
      ],
      "text/plain": [
       "<IPython.core.display.HTML object>"
      ]
     },
     "metadata": {},
     "output_type": "display_data"
    },
    {
     "name": "stdout",
     "output_type": "stream",
     "text": [
      "\n",
      "\n",
      "\n"
     ]
    },
    {
     "data": {
      "text/html": [
       " <span style=\"background-color: yellow;\">PAST</span> <span style=\"background-color: yellow;\">MEDICAL</span> HISTORY: She has a history of <span style=\"background-color: yellow;\">hypertension</span> and shortness of breath. <span style=\"background-color: yellow;\">PAST</span> <span style=\"background-color: yellow;\">SURGICAL</span> HISTORY: <span style=\"background-color: yellow;\">Pertinent</span> for cholecystectomy. <span style=\"background-color: yellow;\">PSYCHOLOGICAL</span> HISTORY: <span style=\"background-color: yellow;\">Negative</span>. <span style=\"background-color: yellow;\">SOCIAL</span> HISTORY: She is single. She drinks alcohol once a week. She does not smoke. <span style=\"background-color: yellow;\">FAMILY</span> HISTORY: <span style=\"background-color: yellow;\">Pertinent</span> for obesity and <span style=\"background-color: yellow;\">hypertension</span>. MEDICATIONS: Include <span style=\"background-color: yellow;\">Topamax</span> 100 <span style=\"background-color: yellow;\">mg</span> <span style=\"background-color: yellow;\">twice</span> <span style=\"background-color: yellow;\">daily</span>, <span style=\"background-color: yellow;\">Zoloft</span> 100 <span style=\"background-color: yellow;\">mg</span> <span style=\"background-color: yellow;\">twice</span> <span style=\"background-color: yellow;\">daily</span>, <span style=\"background-color: yellow;\">Abilify</span> 5 <span style=\"background-color: yellow;\">mg</span> <span style=\"background-color: yellow;\">daily</span>, <span style=\"background-color: yellow;\">Motrin</span> 800 <span style=\"background-color: yellow;\">mg</span> <span style=\"background-color: yellow;\">daily</span>, and a multivitamin. ALLERGIES: She has no known drug allergies. REVIEW OF SYSTEMS: <span style=\"background-color: yellow;\">Negative</span>. PHYSICAL EXAM: This is a pleasant <span style=\"background-color: yellow;\">female</span> in no acute distress. Alert and oriented x 3. HEENT: Normocephalic, atraumatic. Extraocular muscles intact, nonicteric sclerae. Chest is clear to auscultation bilaterally. Cardiovascular is normal sinus rhythm. Abdomen is obese, soft, nontender and nondistended. Extremities show no edema, clubbing or cyanosis. ASSESSMENT/PLAN: This is a 34-year-old <span style=\"background-color: yellow;\">female</span> with a BMI of 43 who is interested in <span style=\"background-color: yellow;\">surgical</span> weight via the gastric bypass as opposed to Lap-Band. ABC will be asking for a letter of <span style=\"background-color: yellow;\">medical</span> necessity from Dr. XYZ. She will also see my nutritionist and <span style=\"background-color: yellow;\">social</span> worker and have an upper endoscopy. Once this is completed, we will submit her to her insurance company for approval. "
      ],
      "text/plain": [
       "<IPython.core.display.HTML object>"
      ]
     },
     "metadata": {},
     "output_type": "display_data"
    },
    {
     "name": "stdout",
     "output_type": "stream",
     "text": [
      "\n",
      "\n",
      "\n"
     ]
    },
    {
     "data": {
      "text/html": [
       " <span style=\"background-color: yellow;\">PAST</span> <span style=\"background-color: yellow;\">MEDICAL</span> HISTORY: She had a <span style=\"background-color: yellow;\">negative</span> stress test four to five <span style=\"background-color: yellow;\">years</span> ago. She gets short of breath in walking about 30 steps. She has had non-insulin dependent <span style=\"background-color: yellow;\">diabetes</span> for about eight <span style=\"background-color: yellow;\">years</span> now. She has a <span style=\"background-color: yellow;\">left</span> <span style=\"background-color: yellow;\">knee</span> arthritis and history of hemorrhoids. <span style=\"background-color: yellow;\">PAST</span> <span style=\"background-color: yellow;\">SURGICAL</span> HISTORY: <span style=\"background-color: yellow;\">Pertinent</span> for laparoscopic cholecystectomy, tonsillectomy, <span style=\"background-color: yellow;\">left</span> <span style=\"background-color: yellow;\">knee</span> <span style=\"background-color: yellow;\">surgery</span>, and right breast lumpectomy. <span style=\"background-color: yellow;\">PSYCHOLOGICAL</span> HISTORY: <span style=\"background-color: yellow;\">Negative</span> except that she was rehabilitated for alcohol addiction in 1990. <span style=\"background-color: yellow;\">SOCIAL</span> HISTORY: The patient is married. She is an office manager for a gravel <span style=\"background-color: yellow;\">company</span>. Her spouse is <span style=\"background-color: yellow;\">also</span> overweight. She drinks on a weekly basis and she smokes about two packs of cigarettes over a week's period of time. She is doing this for about 35 <span style=\"background-color: yellow;\">years</span>. <span style=\"background-color: yellow;\">FAMILY</span> HISTORY: <span style=\"background-color: yellow;\">Diabetes</span> and hypertension. MEDICATIONS: Include Colestid 1 g <span style=\"background-color: yellow;\">daily</span>, Actos 30 <span style=\"background-color: yellow;\">mg</span> <span style=\"background-color: yellow;\">daily</span>, Amaryl 2 <span style=\"background-color: yellow;\">mg</span> <span style=\"background-color: yellow;\">daily</span>, Soma, and meloxicam for her back pain. ALLERGIES: She has no allergies; however, she does get tachycardic with caffeine, Sudafed, or phenylpropanolamine. REVIEW OF SYSTEMS: Otherwise, <span style=\"background-color: yellow;\">negative</span>. PHYSICAL EXAM: This is a pleasant <span style=\"background-color: yellow;\">female</span> in no acute distress. Alert and oriented x 3. HEENT: Normocephalic, atraumatic. Extraocular muscles intact, nonicteric sclerae. Chest is clear. Abdomen is obese, soft, nontender and nondistended. Extremities show no edema, clubbing or cyanosis. ASSESSMENT/PLAN: This is a 51-year-old <span style=\"background-color: yellow;\">female</span> with a BMI of 43 who is interested in the Lap-Band as opposed to gastric bypass. ABC will be asking for a letter of <span style=\"background-color: yellow;\">medical</span> necessity from XYZ. She will <span style=\"background-color: yellow;\">also</span> need an EKG and clearance for <span style=\"background-color: yellow;\">surgery</span>. She will <span style=\"background-color: yellow;\">also</span> see my nutritionist and <span style=\"background-color: yellow;\">social</span> worker and once this is completed, we will submit her to her insurance <span style=\"background-color: yellow;\">company</span> for approval. "
      ],
      "text/plain": [
       "<IPython.core.display.HTML object>"
      ]
     },
     "metadata": {},
     "output_type": "display_data"
    },
    {
     "name": "stdout",
     "output_type": "stream",
     "text": [
      "\n",
      "\n",
      "\n"
     ]
    },
    {
     "data": {
      "text/html": [
       " <span style=\"background-color: yellow;\">PAST</span> <span style=\"background-color: yellow;\">MEDICAL</span> <span style=\"background-color: yellow;\">HISTORY</span>: Her <span style=\"background-color: yellow;\">medical</span> conditions driving her toward surgery include hypercholesterolemia, <span style=\"background-color: yellow;\">hypertension</span>, <span style=\"background-color: yellow;\">varicose</span> veins, prior <span style=\"background-color: yellow;\">history</span> of <span style=\"background-color: yellow;\">stroke</span>. She denies any <span style=\"background-color: yellow;\">history</span> of cancer. She does have a <span style=\"background-color: yellow;\">history</span> of hepatitis which I will need to further investigate. She complains of multiple joint pains, and heavy snoring. <span style=\"background-color: yellow;\">PAST</span> SURGICAL <span style=\"background-color: yellow;\">HISTORY</span>: Includes <span style=\"background-color: yellow;\">hysterectomy</span> in 1995 for fibroids and <span style=\"background-color: yellow;\">varicose</span> vein removal. She had <span style=\"background-color: yellow;\">one</span> ovary removed at the time of the <span style=\"background-color: yellow;\">hysterectomy</span> as <span style=\"background-color: yellow;\">well</span>. SOCIAL <span style=\"background-color: yellow;\">HISTORY</span>: She is a single <span style=\"background-color: yellow;\">mother</span> of <span style=\"background-color: yellow;\">one</span> adopted child. <span style=\"background-color: yellow;\">FAMILY</span> <span style=\"background-color: yellow;\">HISTORY</span>: There is a strong <span style=\"background-color: yellow;\">family</span> <span style=\"background-color: yellow;\">history</span> of heart disease and <span style=\"background-color: yellow;\">hypertension</span>, as <span style=\"background-color: yellow;\">well</span> as <span style=\"background-color: yellow;\">diabetes</span> on both sides of her <span style=\"background-color: yellow;\">family</span>. Her <span style=\"background-color: yellow;\">mother</span> is alive. Her father is deceased from alcohol. She has five siblings. MEDICATIONS: As you know she takes the following medications for her <span style=\"background-color: yellow;\">diabetes</span>, <span style=\"background-color: yellow;\">insulin</span> 70 units/6 units <span style=\"background-color: yellow;\">times</span> four years, aspirin 81 <span style=\"background-color: yellow;\">mg</span> a <span style=\"background-color: yellow;\">day</span>, Actos 15 <span style=\"background-color: yellow;\">mg</span>, Crestor 10 <span style=\"background-color: yellow;\">mg</span> and CellCept 500 <span style=\"background-color: yellow;\">mg</span> two <span style=\"background-color: yellow;\">times</span> a <span style=\"background-color: yellow;\">day</span>. ALLERGIES: She has no known drug allergies. PHYSICAL EXAM: She is a 54-year-old obese female. She does not appear to have any <span style=\"background-color: yellow;\">significant</span> residual deficits from her <span style=\"background-color: yellow;\">stroke</span>. There may be slight left arm weakness. ASSESSMENT/PLAN: We will have her undergo routine nutritional and psychosocial assessment. I suspect that we can significantly improve the situation with her <span style=\"background-color: yellow;\">insulin</span> and oral hypoglycemia, as <span style=\"background-color: yellow;\">well</span> as <span style=\"background-color: yellow;\">hypertension</span>, with <span style=\"background-color: yellow;\">significant</span> <span style=\"background-color: yellow;\">weight</span> <span style=\"background-color: yellow;\">loss</span>. She is otherwise at increased risk for future complications given her <span style=\"background-color: yellow;\">history</span>, and <span style=\"background-color: yellow;\">weight</span> <span style=\"background-color: yellow;\">loss</span> will be a good option. We will see her back in the office once she completes her preliminary workup and submit her for approval to the insurance company. "
      ],
      "text/plain": [
       "<IPython.core.display.HTML object>"
      ]
     },
     "metadata": {},
     "output_type": "display_data"
    },
    {
     "name": "stdout",
     "output_type": "stream",
     "text": [
      "\n",
      "\n",
      "\n"
     ]
    },
    {
     "data": {
      "text/html": [
       "HISTORY OF PRESENT ILLNESS: Ms. A is a 55-year-old <span style=\"background-color: yellow;\">female</span> who presented to the Bariatric <span style=\"background-color: yellow;\">Surgery</span> Service for consideration of laparoscopic Roux-en-Y gastric bypass. The <span style=\"background-color: yellow;\">patient</span> states that she has been overweight for approximately 35 years and has tried multiple <span style=\"background-color: yellow;\">weight</span> <span style=\"background-color: yellow;\">loss</span> modalities in the <span style=\"background-color: yellow;\">past</span> including <span style=\"background-color: yellow;\">Weight</span> Watchers, NutriSystem, Jenny Craig, TOPS, cabbage diet, grape fruit diet, Slim-Fast, Richard Simmons, as <span style=\"background-color: yellow;\">well</span> as over-the-counter measures without any long-term sustainable <span style=\"background-color: yellow;\">weight</span> <span style=\"background-color: yellow;\">loss</span>. At the time of presentation to the practice, she is 5 feet 6 inches tall with a <span style=\"background-color: yellow;\">weight</span> of 285.4 pounds and a body mass index of 46. She has obesity-related comorbidities, which includes <span style=\"background-color: yellow;\">hypertension</span> and hypercholesterolemia. <span style=\"background-color: yellow;\">PAST</span> MEDICAL HISTORY: <span style=\"background-color: yellow;\">Significant</span> for <span style=\"background-color: yellow;\">hypertension</span>, for which the <span style=\"background-color: yellow;\">patient</span> takes Norvasc and Lopressor for. She <span style=\"background-color: yellow;\">also</span> <span style=\"background-color: yellow;\">suffers</span> from <span style=\"background-color: yellow;\">high</span> cholesterol and is on lovastatin for this. She has depression, for which she takes citalopram. She <span style=\"background-color: yellow;\">also</span> stated that she had a DVT in the <span style=\"background-color: yellow;\">past</span> prior to her hysterectomy. She <span style=\"background-color: yellow;\">also</span> <span style=\"background-color: yellow;\">suffers</span> from thyroid <span style=\"background-color: yellow;\">disease</span> in the <span style=\"background-color: yellow;\">past</span> though this is unclear, the nature of this. <span style=\"background-color: yellow;\">PAST</span> SURGICAL HISTORY: <span style=\"background-color: yellow;\">Significant</span> for cholecystectomy in 2008 for gallstones. She <span style=\"background-color: yellow;\">also</span> had a hysterectomy in 1994 secondary to hemorrhage. The <span style=\"background-color: yellow;\">patient</span> <span style=\"background-color: yellow;\">denies</span> any other abdominal surgeries. MEDICATIONS: Norvasc 10 <span style=\"background-color: yellow;\">mg</span> p.o. <span style=\"background-color: yellow;\">daily</span>, Lopressor tartrate 50 <span style=\"background-color: yellow;\">mg</span> p.o. b.i.d., lovastatin 10 <span style=\"background-color: yellow;\">mg</span> p.o. at bedtime, citalopram 10 <span style=\"background-color: yellow;\">mg</span> p.o. <span style=\"background-color: yellow;\">daily</span>, aspirin 500 <span style=\"background-color: yellow;\">mg</span> three times a day, which is currently stopped, <span style=\"background-color: yellow;\">vitamin</span> D, Premarin 0.3 <span style=\"background-color: yellow;\">mg</span> one tablet p.o. <span style=\"background-color: yellow;\">daily</span>, currently stopped, omega-3 fatty acids, and <span style=\"background-color: yellow;\">vitamin</span> D 50,000 units q. weekly. ALLERGIES: The <span style=\"background-color: yellow;\">patient</span> <span style=\"background-color: yellow;\">denies</span> allergies to medications and to latex. SOCIAL HISTORY: The <span style=\"background-color: yellow;\">patient</span> is a homemaker. She is married, with 2 children aged 22 and 28. She is a lifelong nonsmoker and nondrinker. FAMILY HISTORY: <span style=\"background-color: yellow;\">Significant</span> for <span style=\"background-color: yellow;\">high</span> blood pressure and diabetes as <span style=\"background-color: yellow;\">well</span> as <span style=\"background-color: yellow;\">cancer</span> on her father side. He did pass <span style=\"background-color: yellow;\">away</span> from congestive heart failure. Mother <span style=\"background-color: yellow;\">suffers</span> from <span style=\"background-color: yellow;\">high</span> blood pressure, <span style=\"background-color: yellow;\">cancer</span>, and diabetes. Her mother has passed <span style=\"background-color: yellow;\">away</span> secondary to <span style=\"background-color: yellow;\">cancer</span>. She has two brothers one passed <span style=\"background-color: yellow;\">away</span> from brain <span style=\"background-color: yellow;\">cancer</span>. REVIEW OF SYSTEMS: <span style=\"background-color: yellow;\">Significant</span> for ankle swelling. The <span style=\"background-color: yellow;\">patient</span> <span style=\"background-color: yellow;\">also</span> wears glasses for vision and has dentures. She does complain of shortness of breath with exertion. She <span style=\"background-color: yellow;\">also</span> <span style=\"background-color: yellow;\">suffers</span> from hemorrhoids and frequent urination at night as <span style=\"background-color: yellow;\">well</span> as weightbearing joint pain. The <span style=\"background-color: yellow;\">patient</span> <span style=\"background-color: yellow;\">denies</span> ulcerative colitis, Crohn <span style=\"background-color: yellow;\">disease</span>, bleeding diathesis, liver <span style=\"background-color: yellow;\">disease</span>, or kidney <span style=\"background-color: yellow;\">disease</span>. She <span style=\"background-color: yellow;\">denies</span> chest pain, cardiac <span style=\"background-color: yellow;\">disease</span>, <span style=\"background-color: yellow;\">cancer</span>, and stroke. PHYSICAL EXAMINATION: The <span style=\"background-color: yellow;\">patient</span> is a <span style=\"background-color: yellow;\">well</span>-nourished, <span style=\"background-color: yellow;\">well</span>-developed <span style=\"background-color: yellow;\">female</span>, in no distress. Eye Exam: Pupils equal and reactive to light. Extraocular motions are intact. Neck Exam: No cervical lymphadenopathy. Midline trachea. No carotid bruits. Nonpalpable thyroid. Neuro Exam: Gross motor strength in the upper and lower extremities, equal bilaterally with no focal neuro deficits noted. Lung Exam: Clear breath sounds without rhonchi or wheezes. Cardiac Exam: Regular rate and rhythm without murmur or bruits. Abdominal Exam: Positive bowel sounds. Soft, nontender, obese, and nondistended abdomen. Lap cholecystectomy scars noted. No obvious hernias. No organomegaly appreciated. Lower extremity Exam: Edema 1+. Dorsalis pedis pulses 2+. ASSESSMENT: The <span style=\"background-color: yellow;\">patient</span> is a 55-year-old <span style=\"background-color: yellow;\">female</span> with a body mass index of 46, suffering from obesity-related comorbidities including <span style=\"background-color: yellow;\">hypertension</span> and hypercholesterolemia, who presents to the practice for consideration of gastric bypass <span style=\"background-color: yellow;\">surgery</span>. The <span style=\"background-color: yellow;\">patient</span> appears to be an excellent candidate for <span style=\"background-color: yellow;\">surgery</span> and would benefit greatly from surgical <span style=\"background-color: yellow;\">weight</span> <span style=\"background-color: yellow;\">loss</span> in the management of her obesity-related comorbidities. PLAN: In preparation for <span style=\"background-color: yellow;\">surgery</span>, we will obtain the usual baseline laboratory values including baseline <span style=\"background-color: yellow;\">vitamin</span> levels. I recommended the <span style=\"background-color: yellow;\">patient</span> undergo an upper GI series prior to <span style=\"background-color: yellow;\">surgery</span> due to find her upper GI anatomy. <span style=\"background-color: yellow;\">Also</span> the <span style=\"background-color: yellow;\">patient</span> will meet with the dietitian and psychologist as per her usual routine. I have recommended approximately six to eight weeks of Medifast for the <span style=\"background-color: yellow;\">patient</span> to obtain a 10% preoperative <span style=\"background-color: yellow;\">weight</span> <span style=\"background-color: yellow;\">loss</span> in preparation for <span style=\"background-color: yellow;\">surgery</span>. "
      ],
      "text/plain": [
       "<IPython.core.display.HTML object>"
      ]
     },
     "metadata": {},
     "output_type": "display_data"
    },
    {
     "name": "stdout",
     "output_type": "stream",
     "text": [
      "\n",
      "\n",
      "\n"
     ]
    },
    {
     "data": {
      "text/html": [
       "ADMISSION DIAGNOSIS: <span style=\"background-color: yellow;\">Morbid</span> <span style=\"background-color: yellow;\">obesity</span>. <span style=\"background-color: yellow;\">BMI</span> is 51. <span style=\"background-color: yellow;\">DISCHARGE</span> DIAGNOSIS: <span style=\"background-color: yellow;\">Morbid</span> <span style=\"background-color: yellow;\">obesity</span>. <span style=\"background-color: yellow;\">BMI</span> is 51. <span style=\"background-color: yellow;\">PROCEDURE</span>: Laparoscopic <span style=\"background-color: yellow;\">gastric</span> <span style=\"background-color: yellow;\">bypass</span>. SERVICE: Surgery. CONSULT: Anesthesia and <span style=\"background-color: yellow;\">pain</span>. HISTORY OF PRESENT ILLNESS: <span style=\"background-color: yellow;\">Ms</span>. A is a 27-year-old woman, who suffered from <span style=\"background-color: yellow;\">morbid</span> <span style=\"background-color: yellow;\">obesity</span> for many years. She has made multiple attempts at nonsurgical weight loss <span style=\"background-color: yellow;\">without</span> success. She <span style=\"background-color: yellow;\">underwent</span> a preoperative workup and clearance for <span style=\"background-color: yellow;\">gastric</span> <span style=\"background-color: yellow;\">bypass</span> and was found to be an appropriate candidate. She <span style=\"background-color: yellow;\">underwent</span> her <span style=\"background-color: yellow;\">procedure</span>. HOSPITAL COURSE: <span style=\"background-color: yellow;\">Ms</span>. A <span style=\"background-color: yellow;\">underwent</span> her <span style=\"background-color: yellow;\">procedure</span>. She <span style=\"background-color: yellow;\">tolerated</span> <span style=\"background-color: yellow;\">without</span> <span style=\"background-color: yellow;\">difficulty</span>. She was admitted to the floor post <span style=\"background-color: yellow;\">procedure</span>. Her <span style=\"background-color: yellow;\">postoperative</span> course has been unremarkable. On <span style=\"background-color: yellow;\">postoperative</span> <span style=\"background-color: yellow;\">day</span> 1, she was hemodynamically <span style=\"background-color: yellow;\">stable</span>, afebrile, normal labs, and she was started on a clear <span style=\"background-color: yellow;\">liquid</span> <span style=\"background-color: yellow;\">diet</span>, which she has <span style=\"background-color: yellow;\">tolerated</span> <span style=\"background-color: yellow;\">without</span> <span style=\"background-color: yellow;\">difficulty</span>. She has ambulated and had no complaints. Today, on <span style=\"background-color: yellow;\">postoperative</span> <span style=\"background-color: yellow;\">day</span> 2, the patient continues to do well. <span style=\"background-color: yellow;\">Pain</span> controlled with p.o. <span style=\"background-color: yellow;\">pain</span> medicine, ambulating <span style=\"background-color: yellow;\">without</span> <span style=\"background-color: yellow;\">difficulty</span>, tolerating a <span style=\"background-color: yellow;\">liquid</span> <span style=\"background-color: yellow;\">diet</span>. At this point, it is felt that she is <span style=\"background-color: yellow;\">stable</span> for <span style=\"background-color: yellow;\">discharge</span>. Her drain was discontinued. <span style=\"background-color: yellow;\">DISCHARGE</span> INSTRUCTIONS: <span style=\"background-color: yellow;\">Liquid</span> <span style=\"background-color: yellow;\">diet</span> x1 week, then advance to pureed and soft as <span style=\"background-color: yellow;\">tolerated</span>. No heavy lifting, greater than 10 pounds x4 weeks. The patient is <span style=\"background-color: yellow;\">instructed</span> to not engage in any strenuous activity, but maintain mobility. No driving for 1 to 2 weeks. She must be able to stop in an emergency and be off narcotic <span style=\"background-color: yellow;\">pain</span> medicine. She may shower. She needs to keep her wounds clean and dry. She needs to follow up in my office in 1 week for <span style=\"background-color: yellow;\">postoperative</span> evaluation. She is <span style=\"background-color: yellow;\">instructed</span> to call for any problems of shortness of breath, chest <span style=\"background-color: yellow;\">pain</span>, calf <span style=\"background-color: yellow;\">pain</span>, temperature greater than 101.5, any redness, swelling, or foul smelling drainage from her wounds, intractable nausea, vomiting, and abdominal <span style=\"background-color: yellow;\">pain</span>. She is <span style=\"background-color: yellow;\">instructed</span> just to resume her <span style=\"background-color: yellow;\">discharge</span> medications. <span style=\"background-color: yellow;\">DISCHARGE</span> MEDICATIONS: She was given a scripts for Lortab Elixir, Flexeril, ursodiol, and Colace. "
      ],
      "text/plain": [
       "<IPython.core.display.HTML object>"
      ]
     },
     "metadata": {},
     "output_type": "display_data"
    },
    {
     "name": "stdout",
     "output_type": "stream",
     "text": [
      "\n",
      "\n",
      "\n"
     ]
    }
   ],
   "source": [
    "for r in result.select(\"highlighted_keywords\").limit(20).collect():\n",
    "    display(HTML(r.highlighted_keywords))\n",
    "    print(\"\\n\\n\")"
   ]
  },
  {
   "cell_type": "code",
   "execution_count": null,
   "id": "e5464b25",
   "metadata": {},
   "outputs": [],
   "source": []
  }
 ],
 "metadata": {
  "kernelspec": {
   "display_name": "Python [conda env:kuliah]",
   "language": "python",
   "name": "conda-env-kuliah-py"
  },
  "language_info": {
   "codemirror_mode": {
    "name": "ipython",
    "version": 3
   },
   "file_extension": ".py",
   "mimetype": "text/x-python",
   "name": "python",
   "nbconvert_exporter": "python",
   "pygments_lexer": "ipython3",
   "version": "3.8.12"
  }
 },
 "nbformat": 4,
 "nbformat_minor": 5
}
